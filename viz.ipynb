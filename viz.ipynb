{
 "cells": [
  {
   "cell_type": "code",
   "execution_count": 36,
   "metadata": {},
   "outputs": [],
   "source": [
    "import pandas as pd\n",
    "import numpy as np\n",
    "import matplotlib.pyplot as plt\n",
    "import seaborn as sns\n",
    "import plotly.express as px\n",
    "import folium"
   ]
  },
  {
   "cell_type": "code",
   "execution_count": 37,
   "metadata": {},
   "outputs": [
    {
     "data": {
      "text/html": [
       "<div>\n",
       "<style scoped>\n",
       "    .dataframe tbody tr th:only-of-type {\n",
       "        vertical-align: middle;\n",
       "    }\n",
       "\n",
       "    .dataframe tbody tr th {\n",
       "        vertical-align: top;\n",
       "    }\n",
       "\n",
       "    .dataframe thead th {\n",
       "        text-align: right;\n",
       "    }\n",
       "</style>\n",
       "<table border=\"1\" class=\"dataframe\">\n",
       "  <thead>\n",
       "    <tr style=\"text-align: right;\">\n",
       "      <th></th>\n",
       "      <th>CUSTOMER_NAME</th>\n",
       "      <th>PLANT_NAME</th>\n",
       "      <th>LATITUDE</th>\n",
       "      <th>LONGITUDE</th>\n",
       "      <th>ELEVATION</th>\n",
       "      <th>FUEL_N2_MOL_PCT</th>\n",
       "      <th>FUEL_MW</th>\n",
       "      <th>FUEL_LHV</th>\n",
       "      <th>CO2_FUEL_RATIO</th>\n",
       "    </tr>\n",
       "  </thead>\n",
       "  <tbody>\n",
       "    <tr>\n",
       "      <th>0</th>\n",
       "      <td>SPIFFY</td>\n",
       "      <td>SPIRITUAL-POLECAT</td>\n",
       "      <td>61.170356</td>\n",
       "      <td>42.874767</td>\n",
       "      <td>112.000000</td>\n",
       "      <td>4.445063</td>\n",
       "      <td>16.572225</td>\n",
       "      <td>21514.222365</td>\n",
       "      <td>2.621803</td>\n",
       "    </tr>\n",
       "    <tr>\n",
       "      <th>1</th>\n",
       "      <td>NONCHALANT</td>\n",
       "      <td>NIFTY-ROOK</td>\n",
       "      <td>37.554515</td>\n",
       "      <td>49.908217</td>\n",
       "      <td>-29.000000</td>\n",
       "      <td>1.053145</td>\n",
       "      <td>16.166097</td>\n",
       "      <td>21526.470829</td>\n",
       "      <td>2.714870</td>\n",
       "    </tr>\n",
       "    <tr>\n",
       "      <th>2</th>\n",
       "      <td>NONCHALANT</td>\n",
       "      <td>PREHISTORIC-PETREL</td>\n",
       "      <td>29.190866</td>\n",
       "      <td>60.491702</td>\n",
       "      <td>1552.426025</td>\n",
       "      <td>10.298848</td>\n",
       "      <td>17.273122</td>\n",
       "      <td>21494.438672</td>\n",
       "      <td>2.461189</td>\n",
       "    </tr>\n",
       "    <tr>\n",
       "      <th>3</th>\n",
       "      <td>NONCHALANT</td>\n",
       "      <td>THERAPEUTIC-LIONFISH</td>\n",
       "      <td>13.253365</td>\n",
       "      <td>76.411056</td>\n",
       "      <td>867.591553</td>\n",
       "      <td>13.188814</td>\n",
       "      <td>17.619149</td>\n",
       "      <td>21485.251979</td>\n",
       "      <td>2.381895</td>\n",
       "    </tr>\n",
       "    <tr>\n",
       "      <th>4</th>\n",
       "      <td>SOFT</td>\n",
       "      <td>ABORIGINAL-PICULET</td>\n",
       "      <td>-68.632002</td>\n",
       "      <td>66.155301</td>\n",
       "      <td>1253.152832</td>\n",
       "      <td>7.581916</td>\n",
       "      <td>16.947813</td>\n",
       "      <td>21503.417436</td>\n",
       "      <td>2.535736</td>\n",
       "    </tr>\n",
       "  </tbody>\n",
       "</table>\n",
       "</div>"
      ],
      "text/plain": [
       "  CUSTOMER_NAME            PLANT_NAME   LATITUDE  LONGITUDE    ELEVATION  \\\n",
       "0        SPIFFY     SPIRITUAL-POLECAT  61.170356  42.874767   112.000000   \n",
       "1    NONCHALANT            NIFTY-ROOK  37.554515  49.908217   -29.000000   \n",
       "2    NONCHALANT    PREHISTORIC-PETREL  29.190866  60.491702  1552.426025   \n",
       "3    NONCHALANT  THERAPEUTIC-LIONFISH  13.253365  76.411056   867.591553   \n",
       "4          SOFT    ABORIGINAL-PICULET -68.632002  66.155301  1253.152832   \n",
       "\n",
       "   FUEL_N2_MOL_PCT    FUEL_MW      FUEL_LHV  CO2_FUEL_RATIO  \n",
       "0         4.445063  16.572225  21514.222365        2.621803  \n",
       "1         1.053145  16.166097  21526.470829        2.714870  \n",
       "2        10.298848  17.273122  21494.438672        2.461189  \n",
       "3        13.188814  17.619149  21485.251979        2.381895  \n",
       "4         7.581916  16.947813  21503.417436        2.535736  "
      ]
     },
     "execution_count": 37,
     "metadata": {},
     "output_type": "execute_result"
    }
   ],
   "source": [
    "site_df = pd.read_csv('./data/site_metadata-7fc535965d0c074cea0be6786fc9518e.csv')\n",
    "site_df.head()"
   ]
  },
  {
   "cell_type": "code",
   "execution_count": 38,
   "metadata": {},
   "outputs": [
    {
     "data": {
      "text/html": [
       "<div>\n",
       "<style scoped>\n",
       "    .dataframe tbody tr th:only-of-type {\n",
       "        vertical-align: middle;\n",
       "    }\n",
       "\n",
       "    .dataframe tbody tr th {\n",
       "        vertical-align: top;\n",
       "    }\n",
       "\n",
       "    .dataframe thead th {\n",
       "        text-align: right;\n",
       "    }\n",
       "</style>\n",
       "<table border=\"1\" class=\"dataframe\">\n",
       "  <thead>\n",
       "    <tr style=\"text-align: right;\">\n",
       "      <th></th>\n",
       "      <th>CUSTOMER_NAME</th>\n",
       "      <th>PLANT_NAME</th>\n",
       "      <th>ENGINE_ID</th>\n",
       "      <th>FILE_ID</th>\n",
       "    </tr>\n",
       "  </thead>\n",
       "  <tbody>\n",
       "    <tr>\n",
       "      <th>0</th>\n",
       "      <td>SPIFFY</td>\n",
       "      <td>SPIRITUAL-POLECAT</td>\n",
       "      <td>ENGINE_1</td>\n",
       "      <td>data_1.csv</td>\n",
       "    </tr>\n",
       "    <tr>\n",
       "      <th>1</th>\n",
       "      <td>SPIFFY</td>\n",
       "      <td>SPIRITUAL-POLECAT</td>\n",
       "      <td>ENGINE_2</td>\n",
       "      <td>data_2.csv</td>\n",
       "    </tr>\n",
       "    <tr>\n",
       "      <th>2</th>\n",
       "      <td>SPIFFY</td>\n",
       "      <td>SPIRITUAL-POLECAT</td>\n",
       "      <td>ENGINE_3</td>\n",
       "      <td>data_3.csv</td>\n",
       "    </tr>\n",
       "    <tr>\n",
       "      <th>3</th>\n",
       "      <td>NONCHALANT</td>\n",
       "      <td>NIFTY-ROOK</td>\n",
       "      <td>ENGINE_1</td>\n",
       "      <td>data_4.csv</td>\n",
       "    </tr>\n",
       "    <tr>\n",
       "      <th>4</th>\n",
       "      <td>NONCHALANT</td>\n",
       "      <td>NIFTY-ROOK</td>\n",
       "      <td>ENGINE_2</td>\n",
       "      <td>data_5.csv</td>\n",
       "    </tr>\n",
       "  </tbody>\n",
       "</table>\n",
       "</div>"
      ],
      "text/plain": [
       "  CUSTOMER_NAME         PLANT_NAME ENGINE_ID     FILE_ID\n",
       "0        SPIFFY  SPIRITUAL-POLECAT  ENGINE_1  data_1.csv\n",
       "1        SPIFFY  SPIRITUAL-POLECAT  ENGINE_2  data_2.csv\n",
       "2        SPIFFY  SPIRITUAL-POLECAT  ENGINE_3  data_3.csv\n",
       "3    NONCHALANT         NIFTY-ROOK  ENGINE_1  data_4.csv\n",
       "4    NONCHALANT         NIFTY-ROOK  ENGINE_2  data_5.csv"
      ]
     },
     "execution_count": 38,
     "metadata": {},
     "output_type": "execute_result"
    }
   ],
   "source": [
    "engine_df = pd.read_csv('./data/engine_metadata-fad08922e295794745ba1cd70379140f.csv')\n",
    "engine_df.head()"
   ]
  },
  {
   "cell_type": "code",
   "execution_count": 39,
   "metadata": {},
   "outputs": [
    {
     "data": {
      "text/plain": [
       "15"
      ]
     },
     "execution_count": 39,
     "metadata": {},
     "output_type": "execute_result"
    }
   ],
   "source": [
    "site_df['CUSTOMER_NAME'].nunique()"
   ]
  },
  {
   "cell_type": "code",
   "execution_count": 40,
   "metadata": {},
   "outputs": [
    {
     "data": {
      "text/plain": [
       "array(['SPIFFY', 'NONCHALANT', 'SOFT', 'BUSY', 'FERVENT', 'GLEAMING',\n",
       "       'IDEALISTIC', 'DELIGHTFUL', 'TOUGH', 'TANGIBLE', 'DRAMATIC',\n",
       "       'KIND', 'JUDICIOUS', 'SCEPTICAL', 'MERCIFUL'], dtype=object)"
      ]
     },
     "execution_count": 40,
     "metadata": {},
     "output_type": "execute_result"
    }
   ],
   "source": [
    "engine_df['CUSTOMER_NAME'].unique()"
   ]
  },
  {
   "cell_type": "code",
   "execution_count": 41,
   "metadata": {},
   "outputs": [],
   "source": [
    "import folium\n",
    "\n",
    "map = folium.Map(location=[site_df['LATITUDE'].mean(), site_df['LONGITUDE'].mean()], zoom_start=1, control_scale=True)"
   ]
  },
  {
   "cell_type": "code",
   "execution_count": 42,
   "metadata": {},
   "outputs": [],
   "source": [
    "for index, location_info in site_df.iterrows():\n",
    "    folium.Marker([location_info[\"LATITUDE\"], location_info[\"LONGITUDE\"]],\n",
    "                  popup=location_info[\"PLANT_NAME\"]).add_to(map)"
   ]
  },
  {
   "cell_type": "code",
   "execution_count": 43,
   "metadata": {},
   "outputs": [
    {
     "data": {
      "text/html": [
       "<div style=\"width:100%;\"><div style=\"position:relative;width:100%;height:0;padding-bottom:60%;\"><span style=\"color:#565656\">Make this Notebook Trusted to load map: File -> Trust Notebook</span><iframe src=\"about:blank\" style=\"position:absolute;width:100%;height:100%;left:0;top:0;border:none !important;\" data-html=%3C%21DOCTYPE%20html%3E%0A%3Chead%3E%20%20%20%20%0A%20%20%20%20%3Cmeta%20http-equiv%3D%22content-type%22%20content%3D%22text/html%3B%20charset%3DUTF-8%22%20/%3E%0A%20%20%20%20%0A%20%20%20%20%20%20%20%20%3Cscript%3E%0A%20%20%20%20%20%20%20%20%20%20%20%20L_NO_TOUCH%20%3D%20false%3B%0A%20%20%20%20%20%20%20%20%20%20%20%20L_DISABLE_3D%20%3D%20false%3B%0A%20%20%20%20%20%20%20%20%3C/script%3E%0A%20%20%20%20%0A%20%20%20%20%3Cstyle%3Ehtml%2C%20body%20%7Bwidth%3A%20100%25%3Bheight%3A%20100%25%3Bmargin%3A%200%3Bpadding%3A%200%3B%7D%3C/style%3E%0A%20%20%20%20%3Cstyle%3E%23map%20%7Bposition%3Aabsolute%3Btop%3A0%3Bbottom%3A0%3Bright%3A0%3Bleft%3A0%3B%7D%3C/style%3E%0A%20%20%20%20%3Cscript%20src%3D%22https%3A//cdn.jsdelivr.net/npm/leaflet%401.6.0/dist/leaflet.js%22%3E%3C/script%3E%0A%20%20%20%20%3Cscript%20src%3D%22https%3A//code.jquery.com/jquery-1.12.4.min.js%22%3E%3C/script%3E%0A%20%20%20%20%3Cscript%20src%3D%22https%3A//maxcdn.bootstrapcdn.com/bootstrap/3.2.0/js/bootstrap.min.js%22%3E%3C/script%3E%0A%20%20%20%20%3Cscript%20src%3D%22https%3A//cdnjs.cloudflare.com/ajax/libs/Leaflet.awesome-markers/2.0.2/leaflet.awesome-markers.js%22%3E%3C/script%3E%0A%20%20%20%20%3Clink%20rel%3D%22stylesheet%22%20href%3D%22https%3A//cdn.jsdelivr.net/npm/leaflet%401.6.0/dist/leaflet.css%22/%3E%0A%20%20%20%20%3Clink%20rel%3D%22stylesheet%22%20href%3D%22https%3A//maxcdn.bootstrapcdn.com/bootstrap/3.2.0/css/bootstrap.min.css%22/%3E%0A%20%20%20%20%3Clink%20rel%3D%22stylesheet%22%20href%3D%22https%3A//maxcdn.bootstrapcdn.com/bootstrap/3.2.0/css/bootstrap-theme.min.css%22/%3E%0A%20%20%20%20%3Clink%20rel%3D%22stylesheet%22%20href%3D%22https%3A//maxcdn.bootstrapcdn.com/font-awesome/4.6.3/css/font-awesome.min.css%22/%3E%0A%20%20%20%20%3Clink%20rel%3D%22stylesheet%22%20href%3D%22https%3A//cdnjs.cloudflare.com/ajax/libs/Leaflet.awesome-markers/2.0.2/leaflet.awesome-markers.css%22/%3E%0A%20%20%20%20%3Clink%20rel%3D%22stylesheet%22%20href%3D%22https%3A//cdn.jsdelivr.net/gh/python-visualization/folium/folium/templates/leaflet.awesome.rotate.min.css%22/%3E%0A%20%20%20%20%0A%20%20%20%20%20%20%20%20%20%20%20%20%3Cmeta%20name%3D%22viewport%22%20content%3D%22width%3Ddevice-width%2C%0A%20%20%20%20%20%20%20%20%20%20%20%20%20%20%20%20initial-scale%3D1.0%2C%20maximum-scale%3D1.0%2C%20user-scalable%3Dno%22%20/%3E%0A%20%20%20%20%20%20%20%20%20%20%20%20%3Cstyle%3E%0A%20%20%20%20%20%20%20%20%20%20%20%20%20%20%20%20%23map_d2171a335bdb4e608155a8bc2fa76734%20%7B%0A%20%20%20%20%20%20%20%20%20%20%20%20%20%20%20%20%20%20%20%20position%3A%20relative%3B%0A%20%20%20%20%20%20%20%20%20%20%20%20%20%20%20%20%20%20%20%20width%3A%20100.0%25%3B%0A%20%20%20%20%20%20%20%20%20%20%20%20%20%20%20%20%20%20%20%20height%3A%20100.0%25%3B%0A%20%20%20%20%20%20%20%20%20%20%20%20%20%20%20%20%20%20%20%20left%3A%200.0%25%3B%0A%20%20%20%20%20%20%20%20%20%20%20%20%20%20%20%20%20%20%20%20top%3A%200.0%25%3B%0A%20%20%20%20%20%20%20%20%20%20%20%20%20%20%20%20%7D%0A%20%20%20%20%20%20%20%20%20%20%20%20%3C/style%3E%0A%20%20%20%20%20%20%20%20%0A%3C/head%3E%0A%3Cbody%3E%20%20%20%20%0A%20%20%20%20%0A%20%20%20%20%20%20%20%20%20%20%20%20%3Cdiv%20class%3D%22folium-map%22%20id%3D%22map_d2171a335bdb4e608155a8bc2fa76734%22%20%3E%3C/div%3E%0A%20%20%20%20%20%20%20%20%0A%3C/body%3E%0A%3Cscript%3E%20%20%20%20%0A%20%20%20%20%0A%20%20%20%20%20%20%20%20%20%20%20%20var%20map_d2171a335bdb4e608155a8bc2fa76734%20%3D%20L.map%28%0A%20%20%20%20%20%20%20%20%20%20%20%20%20%20%20%20%22map_d2171a335bdb4e608155a8bc2fa76734%22%2C%0A%20%20%20%20%20%20%20%20%20%20%20%20%20%20%20%20%7B%0A%20%20%20%20%20%20%20%20%20%20%20%20%20%20%20%20%20%20%20%20center%3A%20%5B17.24365280950065%2C%2037.17480077974458%5D%2C%0A%20%20%20%20%20%20%20%20%20%20%20%20%20%20%20%20%20%20%20%20crs%3A%20L.CRS.EPSG3857%2C%0A%20%20%20%20%20%20%20%20%20%20%20%20%20%20%20%20%20%20%20%20zoom%3A%201%2C%0A%20%20%20%20%20%20%20%20%20%20%20%20%20%20%20%20%20%20%20%20zoomControl%3A%20true%2C%0A%20%20%20%20%20%20%20%20%20%20%20%20%20%20%20%20%20%20%20%20preferCanvas%3A%20false%2C%0A%20%20%20%20%20%20%20%20%20%20%20%20%20%20%20%20%7D%0A%20%20%20%20%20%20%20%20%20%20%20%20%29%3B%0A%20%20%20%20%20%20%20%20%20%20%20%20L.control.scale%28%29.addTo%28map_d2171a335bdb4e608155a8bc2fa76734%29%3B%0A%0A%20%20%20%20%20%20%20%20%20%20%20%20%0A%0A%20%20%20%20%20%20%20%20%0A%20%20%20%20%0A%20%20%20%20%20%20%20%20%20%20%20%20var%20tile_layer_d7b24437f257459fa20166fff9134fd2%20%3D%20L.tileLayer%28%0A%20%20%20%20%20%20%20%20%20%20%20%20%20%20%20%20%22https%3A//%7Bs%7D.tile.openstreetmap.org/%7Bz%7D/%7Bx%7D/%7By%7D.png%22%2C%0A%20%20%20%20%20%20%20%20%20%20%20%20%20%20%20%20%7B%22attribution%22%3A%20%22Data%20by%20%5Cu0026copy%3B%20%5Cu003ca%20href%3D%5C%22http%3A//openstreetmap.org%5C%22%5Cu003eOpenStreetMap%5Cu003c/a%5Cu003e%2C%20under%20%5Cu003ca%20href%3D%5C%22http%3A//www.openstreetmap.org/copyright%5C%22%5Cu003eODbL%5Cu003c/a%5Cu003e.%22%2C%20%22detectRetina%22%3A%20false%2C%20%22maxNativeZoom%22%3A%2018%2C%20%22maxZoom%22%3A%2018%2C%20%22minZoom%22%3A%200%2C%20%22noWrap%22%3A%20false%2C%20%22opacity%22%3A%201%2C%20%22subdomains%22%3A%20%22abc%22%2C%20%22tms%22%3A%20false%7D%0A%20%20%20%20%20%20%20%20%20%20%20%20%29.addTo%28map_d2171a335bdb4e608155a8bc2fa76734%29%3B%0A%20%20%20%20%20%20%20%20%0A%20%20%20%20%0A%20%20%20%20%20%20%20%20%20%20%20%20var%20marker_81c2e6a4e19b4a9f8f26aeeb004c2898%20%3D%20L.marker%28%0A%20%20%20%20%20%20%20%20%20%20%20%20%20%20%20%20%5B61.17035565541676%2C%2042.87476722769898%5D%2C%0A%20%20%20%20%20%20%20%20%20%20%20%20%20%20%20%20%7B%7D%0A%20%20%20%20%20%20%20%20%20%20%20%20%29.addTo%28map_d2171a335bdb4e608155a8bc2fa76734%29%3B%0A%20%20%20%20%20%20%20%20%0A%20%20%20%20%0A%20%20%20%20%20%20%20%20var%20popup_5a24fdc66a4f4761a6d538d2851a495a%20%3D%20L.popup%28%7B%22maxWidth%22%3A%20%22100%25%22%7D%29%3B%0A%0A%20%20%20%20%20%20%20%20%0A%20%20%20%20%20%20%20%20%20%20%20%20var%20html_701ac7bee61d4deaa7ec37f9587eaa7c%20%3D%20%24%28%60%3Cdiv%20id%3D%22html_701ac7bee61d4deaa7ec37f9587eaa7c%22%20style%3D%22width%3A%20100.0%25%3B%20height%3A%20100.0%25%3B%22%3ESPIRITUAL-POLECAT%3C/div%3E%60%29%5B0%5D%3B%0A%20%20%20%20%20%20%20%20%20%20%20%20popup_5a24fdc66a4f4761a6d538d2851a495a.setContent%28html_701ac7bee61d4deaa7ec37f9587eaa7c%29%3B%0A%20%20%20%20%20%20%20%20%0A%0A%20%20%20%20%20%20%20%20marker_81c2e6a4e19b4a9f8f26aeeb004c2898.bindPopup%28popup_5a24fdc66a4f4761a6d538d2851a495a%29%0A%20%20%20%20%20%20%20%20%3B%0A%0A%20%20%20%20%20%20%20%20%0A%20%20%20%20%0A%20%20%20%20%0A%20%20%20%20%20%20%20%20%20%20%20%20var%20marker_6b39ef89d42f448fbec3d7e129720dd0%20%3D%20L.marker%28%0A%20%20%20%20%20%20%20%20%20%20%20%20%20%20%20%20%5B37.55451549722366%2C%2049.90821662683808%5D%2C%0A%20%20%20%20%20%20%20%20%20%20%20%20%20%20%20%20%7B%7D%0A%20%20%20%20%20%20%20%20%20%20%20%20%29.addTo%28map_d2171a335bdb4e608155a8bc2fa76734%29%3B%0A%20%20%20%20%20%20%20%20%0A%20%20%20%20%0A%20%20%20%20%20%20%20%20var%20popup_da57f8cb75a645b2bd0067e5a48cb80c%20%3D%20L.popup%28%7B%22maxWidth%22%3A%20%22100%25%22%7D%29%3B%0A%0A%20%20%20%20%20%20%20%20%0A%20%20%20%20%20%20%20%20%20%20%20%20var%20html_f6f4d007972b4c4284cad6b65b1fa56a%20%3D%20%24%28%60%3Cdiv%20id%3D%22html_f6f4d007972b4c4284cad6b65b1fa56a%22%20style%3D%22width%3A%20100.0%25%3B%20height%3A%20100.0%25%3B%22%3ENIFTY-ROOK%3C/div%3E%60%29%5B0%5D%3B%0A%20%20%20%20%20%20%20%20%20%20%20%20popup_da57f8cb75a645b2bd0067e5a48cb80c.setContent%28html_f6f4d007972b4c4284cad6b65b1fa56a%29%3B%0A%20%20%20%20%20%20%20%20%0A%0A%20%20%20%20%20%20%20%20marker_6b39ef89d42f448fbec3d7e129720dd0.bindPopup%28popup_da57f8cb75a645b2bd0067e5a48cb80c%29%0A%20%20%20%20%20%20%20%20%3B%0A%0A%20%20%20%20%20%20%20%20%0A%20%20%20%20%0A%20%20%20%20%0A%20%20%20%20%20%20%20%20%20%20%20%20var%20marker_ed70a5a28c194f1482bfa5786314457c%20%3D%20L.marker%28%0A%20%20%20%20%20%20%20%20%20%20%20%20%20%20%20%20%5B29.19086586941076%2C%2060.49170182347541%5D%2C%0A%20%20%20%20%20%20%20%20%20%20%20%20%20%20%20%20%7B%7D%0A%20%20%20%20%20%20%20%20%20%20%20%20%29.addTo%28map_d2171a335bdb4e608155a8bc2fa76734%29%3B%0A%20%20%20%20%20%20%20%20%0A%20%20%20%20%0A%20%20%20%20%20%20%20%20var%20popup_8554ec1534fb4ddd8f867a9b6593d168%20%3D%20L.popup%28%7B%22maxWidth%22%3A%20%22100%25%22%7D%29%3B%0A%0A%20%20%20%20%20%20%20%20%0A%20%20%20%20%20%20%20%20%20%20%20%20var%20html_03bbf00fede44ad7bbef2271b7fa07c7%20%3D%20%24%28%60%3Cdiv%20id%3D%22html_03bbf00fede44ad7bbef2271b7fa07c7%22%20style%3D%22width%3A%20100.0%25%3B%20height%3A%20100.0%25%3B%22%3EPREHISTORIC-PETREL%3C/div%3E%60%29%5B0%5D%3B%0A%20%20%20%20%20%20%20%20%20%20%20%20popup_8554ec1534fb4ddd8f867a9b6593d168.setContent%28html_03bbf00fede44ad7bbef2271b7fa07c7%29%3B%0A%20%20%20%20%20%20%20%20%0A%0A%20%20%20%20%20%20%20%20marker_ed70a5a28c194f1482bfa5786314457c.bindPopup%28popup_8554ec1534fb4ddd8f867a9b6593d168%29%0A%20%20%20%20%20%20%20%20%3B%0A%0A%20%20%20%20%20%20%20%20%0A%20%20%20%20%0A%20%20%20%20%0A%20%20%20%20%20%20%20%20%20%20%20%20var%20marker_f73e5618a4d04b5f88e180f31c6cc640%20%3D%20L.marker%28%0A%20%20%20%20%20%20%20%20%20%20%20%20%20%20%20%20%5B13.253365033156228%2C%2076.41105642809447%5D%2C%0A%20%20%20%20%20%20%20%20%20%20%20%20%20%20%20%20%7B%7D%0A%20%20%20%20%20%20%20%20%20%20%20%20%29.addTo%28map_d2171a335bdb4e608155a8bc2fa76734%29%3B%0A%20%20%20%20%20%20%20%20%0A%20%20%20%20%0A%20%20%20%20%20%20%20%20var%20popup_579d2a25949649e9b39d202906ed71c8%20%3D%20L.popup%28%7B%22maxWidth%22%3A%20%22100%25%22%7D%29%3B%0A%0A%20%20%20%20%20%20%20%20%0A%20%20%20%20%20%20%20%20%20%20%20%20var%20html_21cf50329e8f4b68aa82444dfa9c8a00%20%3D%20%24%28%60%3Cdiv%20id%3D%22html_21cf50329e8f4b68aa82444dfa9c8a00%22%20style%3D%22width%3A%20100.0%25%3B%20height%3A%20100.0%25%3B%22%3ETHERAPEUTIC-LIONFISH%3C/div%3E%60%29%5B0%5D%3B%0A%20%20%20%20%20%20%20%20%20%20%20%20popup_579d2a25949649e9b39d202906ed71c8.setContent%28html_21cf50329e8f4b68aa82444dfa9c8a00%29%3B%0A%20%20%20%20%20%20%20%20%0A%0A%20%20%20%20%20%20%20%20marker_f73e5618a4d04b5f88e180f31c6cc640.bindPopup%28popup_579d2a25949649e9b39d202906ed71c8%29%0A%20%20%20%20%20%20%20%20%3B%0A%0A%20%20%20%20%20%20%20%20%0A%20%20%20%20%0A%20%20%20%20%0A%20%20%20%20%20%20%20%20%20%20%20%20var%20marker_8a014df82635402d9de5bbdce23d11aa%20%3D%20L.marker%28%0A%20%20%20%20%20%20%20%20%20%20%20%20%20%20%20%20%5B-68.63200204949257%2C%2066.15530078737422%5D%2C%0A%20%20%20%20%20%20%20%20%20%20%20%20%20%20%20%20%7B%7D%0A%20%20%20%20%20%20%20%20%20%20%20%20%29.addTo%28map_d2171a335bdb4e608155a8bc2fa76734%29%3B%0A%20%20%20%20%20%20%20%20%0A%20%20%20%20%0A%20%20%20%20%20%20%20%20var%20popup_ac922952f6fd4b5887a9a58dbac70d19%20%3D%20L.popup%28%7B%22maxWidth%22%3A%20%22100%25%22%7D%29%3B%0A%0A%20%20%20%20%20%20%20%20%0A%20%20%20%20%20%20%20%20%20%20%20%20var%20html_06ba5e3c655542868afaf297294b05c7%20%3D%20%24%28%60%3Cdiv%20id%3D%22html_06ba5e3c655542868afaf297294b05c7%22%20style%3D%22width%3A%20100.0%25%3B%20height%3A%20100.0%25%3B%22%3EABORIGINAL-PICULET%3C/div%3E%60%29%5B0%5D%3B%0A%20%20%20%20%20%20%20%20%20%20%20%20popup_ac922952f6fd4b5887a9a58dbac70d19.setContent%28html_06ba5e3c655542868afaf297294b05c7%29%3B%0A%20%20%20%20%20%20%20%20%0A%0A%20%20%20%20%20%20%20%20marker_8a014df82635402d9de5bbdce23d11aa.bindPopup%28popup_ac922952f6fd4b5887a9a58dbac70d19%29%0A%20%20%20%20%20%20%20%20%3B%0A%0A%20%20%20%20%20%20%20%20%0A%20%20%20%20%0A%20%20%20%20%0A%20%20%20%20%20%20%20%20%20%20%20%20var%20marker_caa9a1868cf44962b230999a79727462%20%3D%20L.marker%28%0A%20%20%20%20%20%20%20%20%20%20%20%20%20%20%20%20%5B-37.9973686323425%2C%20178.14485465045027%5D%2C%0A%20%20%20%20%20%20%20%20%20%20%20%20%20%20%20%20%7B%7D%0A%20%20%20%20%20%20%20%20%20%20%20%20%29.addTo%28map_d2171a335bdb4e608155a8bc2fa76734%29%3B%0A%20%20%20%20%20%20%20%20%0A%20%20%20%20%0A%20%20%20%20%20%20%20%20var%20popup_f48721025bd74bb99ce4496e61439d55%20%3D%20L.popup%28%7B%22maxWidth%22%3A%20%22100%25%22%7D%29%3B%0A%0A%20%20%20%20%20%20%20%20%0A%20%20%20%20%20%20%20%20%20%20%20%20var%20html_db3767e6ec9d4a6f96aea5271675143b%20%3D%20%24%28%60%3Cdiv%20id%3D%22html_db3767e6ec9d4a6f96aea5271675143b%22%20style%3D%22width%3A%20100.0%25%3B%20height%3A%20100.0%25%3B%22%3ECARMINE-REINDEER%3C/div%3E%60%29%5B0%5D%3B%0A%20%20%20%20%20%20%20%20%20%20%20%20popup_f48721025bd74bb99ce4496e61439d55.setContent%28html_db3767e6ec9d4a6f96aea5271675143b%29%3B%0A%20%20%20%20%20%20%20%20%0A%0A%20%20%20%20%20%20%20%20marker_caa9a1868cf44962b230999a79727462.bindPopup%28popup_f48721025bd74bb99ce4496e61439d55%29%0A%20%20%20%20%20%20%20%20%3B%0A%0A%20%20%20%20%20%20%20%20%0A%20%20%20%20%0A%20%20%20%20%0A%20%20%20%20%20%20%20%20%20%20%20%20var%20marker_972cce7cfba940a28fe9b0f5230c915e%20%3D%20L.marker%28%0A%20%20%20%20%20%20%20%20%20%20%20%20%20%20%20%20%5B-31.15103104341091%2C%20146.86922625712089%5D%2C%0A%20%20%20%20%20%20%20%20%20%20%20%20%20%20%20%20%7B%7D%0A%20%20%20%20%20%20%20%20%20%20%20%20%29.addTo%28map_d2171a335bdb4e608155a8bc2fa76734%29%3B%0A%20%20%20%20%20%20%20%20%0A%20%20%20%20%0A%20%20%20%20%20%20%20%20var%20popup_317c91e141c84003875914a04c67fdd7%20%3D%20L.popup%28%7B%22maxWidth%22%3A%20%22100%25%22%7D%29%3B%0A%0A%20%20%20%20%20%20%20%20%0A%20%20%20%20%20%20%20%20%20%20%20%20var%20html_5b50727d5c5e4309b339faeabf484ff3%20%3D%20%24%28%60%3Cdiv%20id%3D%22html_5b50727d5c5e4309b339faeabf484ff3%22%20style%3D%22width%3A%20100.0%25%3B%20height%3A%20100.0%25%3B%22%3EIDEALISTIC-DODO%3C/div%3E%60%29%5B0%5D%3B%0A%20%20%20%20%20%20%20%20%20%20%20%20popup_317c91e141c84003875914a04c67fdd7.setContent%28html_5b50727d5c5e4309b339faeabf484ff3%29%3B%0A%20%20%20%20%20%20%20%20%0A%0A%20%20%20%20%20%20%20%20marker_972cce7cfba940a28fe9b0f5230c915e.bindPopup%28popup_317c91e141c84003875914a04c67fdd7%29%0A%20%20%20%20%20%20%20%20%3B%0A%0A%20%20%20%20%20%20%20%20%0A%20%20%20%20%0A%20%20%20%20%0A%20%20%20%20%20%20%20%20%20%20%20%20var%20marker_64f4a49e9b5b4549b0f49982d5e03e8f%20%3D%20L.marker%28%0A%20%20%20%20%20%20%20%20%20%20%20%20%20%20%20%20%5B-67.13288518116451%2C%20140.03823722734865%5D%2C%0A%20%20%20%20%20%20%20%20%20%20%20%20%20%20%20%20%7B%7D%0A%20%20%20%20%20%20%20%20%20%20%20%20%29.addTo%28map_d2171a335bdb4e608155a8bc2fa76734%29%3B%0A%20%20%20%20%20%20%20%20%0A%20%20%20%20%0A%20%20%20%20%20%20%20%20var%20popup_72e4279fdf924a458daa48b0147db35a%20%3D%20L.popup%28%7B%22maxWidth%22%3A%20%22100%25%22%7D%29%3B%0A%0A%20%20%20%20%20%20%20%20%0A%20%20%20%20%20%20%20%20%20%20%20%20var%20html_669f541f425b410fb5caa5b883d21d98%20%3D%20%24%28%60%3Cdiv%20id%3D%22html_669f541f425b410fb5caa5b883d21d98%22%20style%3D%22width%3A%20100.0%25%3B%20height%3A%20100.0%25%3B%22%3EANCIENT-WASP%3C/div%3E%60%29%5B0%5D%3B%0A%20%20%20%20%20%20%20%20%20%20%20%20popup_72e4279fdf924a458daa48b0147db35a.setContent%28html_669f541f425b410fb5caa5b883d21d98%29%3B%0A%20%20%20%20%20%20%20%20%0A%0A%20%20%20%20%20%20%20%20marker_64f4a49e9b5b4549b0f49982d5e03e8f.bindPopup%28popup_72e4279fdf924a458daa48b0147db35a%29%0A%20%20%20%20%20%20%20%20%3B%0A%0A%20%20%20%20%20%20%20%20%0A%20%20%20%20%0A%20%20%20%20%0A%20%20%20%20%20%20%20%20%20%20%20%20var%20marker_e759a5ad821045a78179c39b3eca9726%20%3D%20L.marker%28%0A%20%20%20%20%20%20%20%20%20%20%20%20%20%20%20%20%5B-0.2100842124175272%2C%20-76.83477789594805%5D%2C%0A%20%20%20%20%20%20%20%20%20%20%20%20%20%20%20%20%7B%7D%0A%20%20%20%20%20%20%20%20%20%20%20%20%29.addTo%28map_d2171a335bdb4e608155a8bc2fa76734%29%3B%0A%20%20%20%20%20%20%20%20%0A%20%20%20%20%0A%20%20%20%20%20%20%20%20var%20popup_ad27ceca6ce4432f8e7380ba72c63e95%20%3D%20L.popup%28%7B%22maxWidth%22%3A%20%22100%25%22%7D%29%3B%0A%0A%20%20%20%20%20%20%20%20%0A%20%20%20%20%20%20%20%20%20%20%20%20var%20html_bf3861e9764b4cf09db280786af0522b%20%3D%20%24%28%60%3Cdiv%20id%3D%22html_bf3861e9764b4cf09db280786af0522b%22%20style%3D%22width%3A%20100.0%25%3B%20height%3A%20100.0%25%3B%22%3EAQUAMARINE-KANGAROO%3C/div%3E%60%29%5B0%5D%3B%0A%20%20%20%20%20%20%20%20%20%20%20%20popup_ad27ceca6ce4432f8e7380ba72c63e95.setContent%28html_bf3861e9764b4cf09db280786af0522b%29%3B%0A%20%20%20%20%20%20%20%20%0A%0A%20%20%20%20%20%20%20%20marker_e759a5ad821045a78179c39b3eca9726.bindPopup%28popup_ad27ceca6ce4432f8e7380ba72c63e95%29%0A%20%20%20%20%20%20%20%20%3B%0A%0A%20%20%20%20%20%20%20%20%0A%20%20%20%20%0A%20%20%20%20%0A%20%20%20%20%20%20%20%20%20%20%20%20var%20marker_cab7113c452c4e35b3f75c9c8dd8ea49%20%3D%20L.marker%28%0A%20%20%20%20%20%20%20%20%20%20%20%20%20%20%20%20%5B61.7731084242111%2C%20140.74313968484972%5D%2C%0A%20%20%20%20%20%20%20%20%20%20%20%20%20%20%20%20%7B%7D%0A%20%20%20%20%20%20%20%20%20%20%20%20%29.addTo%28map_d2171a335bdb4e608155a8bc2fa76734%29%3B%0A%20%20%20%20%20%20%20%20%0A%20%20%20%20%0A%20%20%20%20%20%20%20%20var%20popup_d141ebc04d8b49dfb4f6256c40cfa4b7%20%3D%20L.popup%28%7B%22maxWidth%22%3A%20%22100%25%22%7D%29%3B%0A%0A%20%20%20%20%20%20%20%20%0A%20%20%20%20%20%20%20%20%20%20%20%20var%20html_a0d884260ba24989977b7567c1199fe5%20%3D%20%24%28%60%3Cdiv%20id%3D%22html_a0d884260ba24989977b7567c1199fe5%22%20style%3D%22width%3A%20100.0%25%3B%20height%3A%20100.0%25%3B%22%3ERADIANT-STURGEON%3C/div%3E%60%29%5B0%5D%3B%0A%20%20%20%20%20%20%20%20%20%20%20%20popup_d141ebc04d8b49dfb4f6256c40cfa4b7.setContent%28html_a0d884260ba24989977b7567c1199fe5%29%3B%0A%20%20%20%20%20%20%20%20%0A%0A%20%20%20%20%20%20%20%20marker_cab7113c452c4e35b3f75c9c8dd8ea49.bindPopup%28popup_d141ebc04d8b49dfb4f6256c40cfa4b7%29%0A%20%20%20%20%20%20%20%20%3B%0A%0A%20%20%20%20%20%20%20%20%0A%20%20%20%20%0A%20%20%20%20%0A%20%20%20%20%20%20%20%20%20%20%20%20var%20marker_172b664a6c2f429598e20a3614e4e5e5%20%3D%20L.marker%28%0A%20%20%20%20%20%20%20%20%20%20%20%20%20%20%20%20%5B5.142945480545137%2C%2045.31517109005566%5D%2C%0A%20%20%20%20%20%20%20%20%20%20%20%20%20%20%20%20%7B%7D%0A%20%20%20%20%20%20%20%20%20%20%20%20%29.addTo%28map_d2171a335bdb4e608155a8bc2fa76734%29%3B%0A%20%20%20%20%20%20%20%20%0A%20%20%20%20%0A%20%20%20%20%20%20%20%20var%20popup_88faffb277124fb984fdc3c70d974f43%20%3D%20L.popup%28%7B%22maxWidth%22%3A%20%22100%25%22%7D%29%3B%0A%0A%20%20%20%20%20%20%20%20%0A%20%20%20%20%20%20%20%20%20%20%20%20var%20html_b5d386b10aef4813a919de1abc817a9b%20%3D%20%24%28%60%3Cdiv%20id%3D%22html_b5d386b10aef4813a919de1abc817a9b%22%20style%3D%22width%3A%20100.0%25%3B%20height%3A%20100.0%25%3B%22%3ECURIOUS-QUAIL%3C/div%3E%60%29%5B0%5D%3B%0A%20%20%20%20%20%20%20%20%20%20%20%20popup_88faffb277124fb984fdc3c70d974f43.setContent%28html_b5d386b10aef4813a919de1abc817a9b%29%3B%0A%20%20%20%20%20%20%20%20%0A%0A%20%20%20%20%20%20%20%20marker_172b664a6c2f429598e20a3614e4e5e5.bindPopup%28popup_88faffb277124fb984fdc3c70d974f43%29%0A%20%20%20%20%20%20%20%20%3B%0A%0A%20%20%20%20%20%20%20%20%0A%20%20%20%20%0A%20%20%20%20%0A%20%20%20%20%20%20%20%20%20%20%20%20var%20marker_79e0f4d242e74762b890b39857daf28c%20%3D%20L.marker%28%0A%20%20%20%20%20%20%20%20%20%20%20%20%20%20%20%20%5B10.742002646789118%2C%20105.6524545701592%5D%2C%0A%20%20%20%20%20%20%20%20%20%20%20%20%20%20%20%20%7B%7D%0A%20%20%20%20%20%20%20%20%20%20%20%20%29.addTo%28map_d2171a335bdb4e608155a8bc2fa76734%29%3B%0A%20%20%20%20%20%20%20%20%0A%20%20%20%20%0A%20%20%20%20%20%20%20%20var%20popup_aba8e23e39a044df9d2e4c7facd487c2%20%3D%20L.popup%28%7B%22maxWidth%22%3A%20%22100%25%22%7D%29%3B%0A%0A%20%20%20%20%20%20%20%20%0A%20%20%20%20%20%20%20%20%20%20%20%20var%20html_17c075ea70204ac69aa210a8166ba649%20%3D%20%24%28%60%3Cdiv%20id%3D%22html_17c075ea70204ac69aa210a8166ba649%22%20style%3D%22width%3A%20100.0%25%3B%20height%3A%20100.0%25%3B%22%3ESILKY-WEASEL%3C/div%3E%60%29%5B0%5D%3B%0A%20%20%20%20%20%20%20%20%20%20%20%20popup_aba8e23e39a044df9d2e4c7facd487c2.setContent%28html_17c075ea70204ac69aa210a8166ba649%29%3B%0A%20%20%20%20%20%20%20%20%0A%0A%20%20%20%20%20%20%20%20marker_79e0f4d242e74762b890b39857daf28c.bindPopup%28popup_aba8e23e39a044df9d2e4c7facd487c2%29%0A%20%20%20%20%20%20%20%20%3B%0A%0A%20%20%20%20%20%20%20%20%0A%20%20%20%20%0A%20%20%20%20%0A%20%20%20%20%20%20%20%20%20%20%20%20var%20marker_37639db15a77422bb711bec0f2acefb8%20%3D%20L.marker%28%0A%20%20%20%20%20%20%20%20%20%20%20%20%20%20%20%20%5B-12.144845924877266%2C%2016.504710455389358%5D%2C%0A%20%20%20%20%20%20%20%20%20%20%20%20%20%20%20%20%7B%7D%0A%20%20%20%20%20%20%20%20%20%20%20%20%29.addTo%28map_d2171a335bdb4e608155a8bc2fa76734%29%3B%0A%20%20%20%20%20%20%20%20%0A%20%20%20%20%0A%20%20%20%20%20%20%20%20var%20popup_ae761c0f27ea40fcb9e9b2fea1639594%20%3D%20L.popup%28%7B%22maxWidth%22%3A%20%22100%25%22%7D%29%3B%0A%0A%20%20%20%20%20%20%20%20%0A%20%20%20%20%20%20%20%20%20%20%20%20var%20html_3dc32a2aca4649189a9ba255d7d7d81d%20%3D%20%24%28%60%3Cdiv%20id%3D%22html_3dc32a2aca4649189a9ba255d7d7d81d%22%20style%3D%22width%3A%20100.0%25%3B%20height%3A%20100.0%25%3B%22%3EINDIGO-TAPIR%3C/div%3E%60%29%5B0%5D%3B%0A%20%20%20%20%20%20%20%20%20%20%20%20popup_ae761c0f27ea40fcb9e9b2fea1639594.setContent%28html_3dc32a2aca4649189a9ba255d7d7d81d%29%3B%0A%20%20%20%20%20%20%20%20%0A%0A%20%20%20%20%20%20%20%20marker_37639db15a77422bb711bec0f2acefb8.bindPopup%28popup_ae761c0f27ea40fcb9e9b2fea1639594%29%0A%20%20%20%20%20%20%20%20%3B%0A%0A%20%20%20%20%20%20%20%20%0A%20%20%20%20%0A%20%20%20%20%0A%20%20%20%20%20%20%20%20%20%20%20%20var%20marker_ce4cce4b58f14c41953d2bbf49e8ff8d%20%3D%20L.marker%28%0A%20%20%20%20%20%20%20%20%20%20%20%20%20%20%20%20%5B-23.06755713329173%2C%20130.96213779946157%5D%2C%0A%20%20%20%20%20%20%20%20%20%20%20%20%20%20%20%20%7B%7D%0A%20%20%20%20%20%20%20%20%20%20%20%20%29.addTo%28map_d2171a335bdb4e608155a8bc2fa76734%29%3B%0A%20%20%20%20%20%20%20%20%0A%20%20%20%20%0A%20%20%20%20%20%20%20%20var%20popup_7b76977e270d40baabc8598b1e78559e%20%3D%20L.popup%28%7B%22maxWidth%22%3A%20%22100%25%22%7D%29%3B%0A%0A%20%20%20%20%20%20%20%20%0A%20%20%20%20%20%20%20%20%20%20%20%20var%20html_c98dc3fd8edb43219d795e0a02f5f8bc%20%3D%20%24%28%60%3Cdiv%20id%3D%22html_c98dc3fd8edb43219d795e0a02f5f8bc%22%20style%3D%22width%3A%20100.0%25%3B%20height%3A%20100.0%25%3B%22%3EPERFECT-MACKEREL%3C/div%3E%60%29%5B0%5D%3B%0A%20%20%20%20%20%20%20%20%20%20%20%20popup_7b76977e270d40baabc8598b1e78559e.setContent%28html_c98dc3fd8edb43219d795e0a02f5f8bc%29%3B%0A%20%20%20%20%20%20%20%20%0A%0A%20%20%20%20%20%20%20%20marker_ce4cce4b58f14c41953d2bbf49e8ff8d.bindPopup%28popup_7b76977e270d40baabc8598b1e78559e%29%0A%20%20%20%20%20%20%20%20%3B%0A%0A%20%20%20%20%20%20%20%20%0A%20%20%20%20%0A%20%20%20%20%0A%20%20%20%20%20%20%20%20%20%20%20%20var%20marker_cb7b01ed0e634b18ba0e1af3577ec2bd%20%3D%20L.marker%28%0A%20%20%20%20%20%20%20%20%20%20%20%20%20%20%20%20%5B52.39965395823988%2C%20131.11608769552691%5D%2C%0A%20%20%20%20%20%20%20%20%20%20%20%20%20%20%20%20%7B%7D%0A%20%20%20%20%20%20%20%20%20%20%20%20%29.addTo%28map_d2171a335bdb4e608155a8bc2fa76734%29%3B%0A%20%20%20%20%20%20%20%20%0A%20%20%20%20%0A%20%20%20%20%20%20%20%20var%20popup_a3f2d8e26f8e468fae1ae13b1f0738f4%20%3D%20L.popup%28%7B%22maxWidth%22%3A%20%22100%25%22%7D%29%3B%0A%0A%20%20%20%20%20%20%20%20%0A%20%20%20%20%20%20%20%20%20%20%20%20var%20html_6966398e12454d64a6d852f96d2f0c7e%20%3D%20%24%28%60%3Cdiv%20id%3D%22html_6966398e12454d64a6d852f96d2f0c7e%22%20style%3D%22width%3A%20100.0%25%3B%20height%3A%20100.0%25%3B%22%3EADORABLE-PANTHER%3C/div%3E%60%29%5B0%5D%3B%0A%20%20%20%20%20%20%20%20%20%20%20%20popup_a3f2d8e26f8e468fae1ae13b1f0738f4.setContent%28html_6966398e12454d64a6d852f96d2f0c7e%29%3B%0A%20%20%20%20%20%20%20%20%0A%0A%20%20%20%20%20%20%20%20marker_cb7b01ed0e634b18ba0e1af3577ec2bd.bindPopup%28popup_a3f2d8e26f8e468fae1ae13b1f0738f4%29%0A%20%20%20%20%20%20%20%20%3B%0A%0A%20%20%20%20%20%20%20%20%0A%20%20%20%20%0A%20%20%20%20%0A%20%20%20%20%20%20%20%20%20%20%20%20var%20marker_7bd4835912434a908f106bbdb273a41a%20%3D%20L.marker%28%0A%20%20%20%20%20%20%20%20%20%20%20%20%20%20%20%20%5B-31.22495920164189%2C%20124.14992178092352%5D%2C%0A%20%20%20%20%20%20%20%20%20%20%20%20%20%20%20%20%7B%7D%0A%20%20%20%20%20%20%20%20%20%20%20%20%29.addTo%28map_d2171a335bdb4e608155a8bc2fa76734%29%3B%0A%20%20%20%20%20%20%20%20%0A%20%20%20%20%0A%20%20%20%20%20%20%20%20var%20popup_07a00640c5984902b7b1b8d7e58b3daf%20%3D%20L.popup%28%7B%22maxWidth%22%3A%20%22100%25%22%7D%29%3B%0A%0A%20%20%20%20%20%20%20%20%0A%20%20%20%20%20%20%20%20%20%20%20%20var%20html_ac3c3c00ae1d4b56adc29d29d224ec13%20%3D%20%24%28%60%3Cdiv%20id%3D%22html_ac3c3c00ae1d4b56adc29d29d224ec13%22%20style%3D%22width%3A%20100.0%25%3B%20height%3A%20100.0%25%3B%22%3ECAREFUL-PHEASANT%3C/div%3E%60%29%5B0%5D%3B%0A%20%20%20%20%20%20%20%20%20%20%20%20popup_07a00640c5984902b7b1b8d7e58b3daf.setContent%28html_ac3c3c00ae1d4b56adc29d29d224ec13%29%3B%0A%20%20%20%20%20%20%20%20%0A%0A%20%20%20%20%20%20%20%20marker_7bd4835912434a908f106bbdb273a41a.bindPopup%28popup_07a00640c5984902b7b1b8d7e58b3daf%29%0A%20%20%20%20%20%20%20%20%3B%0A%0A%20%20%20%20%20%20%20%20%0A%20%20%20%20%0A%20%20%20%20%0A%20%20%20%20%20%20%20%20%20%20%20%20var%20marker_62081870c43e4affad9f07f005148a63%20%3D%20L.marker%28%0A%20%20%20%20%20%20%20%20%20%20%20%20%20%20%20%20%5B1.7710924612257912%2C%2042.93938511688626%5D%2C%0A%20%20%20%20%20%20%20%20%20%20%20%20%20%20%20%20%7B%7D%0A%20%20%20%20%20%20%20%20%20%20%20%20%29.addTo%28map_d2171a335bdb4e608155a8bc2fa76734%29%3B%0A%20%20%20%20%20%20%20%20%0A%20%20%20%20%0A%20%20%20%20%20%20%20%20var%20popup_ba831da1f0fe49f2ae016f94a581ce07%20%3D%20L.popup%28%7B%22maxWidth%22%3A%20%22100%25%22%7D%29%3B%0A%0A%20%20%20%20%20%20%20%20%0A%20%20%20%20%20%20%20%20%20%20%20%20var%20html_a8258cd3bf8f455cb0515581f6bcb673%20%3D%20%24%28%60%3Cdiv%20id%3D%22html_a8258cd3bf8f455cb0515581f6bcb673%22%20style%3D%22width%3A%20100.0%25%3B%20height%3A%20100.0%25%3B%22%3EPRECISE-POGONA%3C/div%3E%60%29%5B0%5D%3B%0A%20%20%20%20%20%20%20%20%20%20%20%20popup_ba831da1f0fe49f2ae016f94a581ce07.setContent%28html_a8258cd3bf8f455cb0515581f6bcb673%29%3B%0A%20%20%20%20%20%20%20%20%0A%0A%20%20%20%20%20%20%20%20marker_62081870c43e4affad9f07f005148a63.bindPopup%28popup_ba831da1f0fe49f2ae016f94a581ce07%29%0A%20%20%20%20%20%20%20%20%3B%0A%0A%20%20%20%20%20%20%20%20%0A%20%20%20%20%0A%20%20%20%20%0A%20%20%20%20%20%20%20%20%20%20%20%20var%20marker_9b5a0536e31a4e50bd474673f7292f33%20%3D%20L.marker%28%0A%20%20%20%20%20%20%20%20%20%20%20%20%20%20%20%20%5B53.08878228952965%2C%2013.186017129815298%5D%2C%0A%20%20%20%20%20%20%20%20%20%20%20%20%20%20%20%20%7B%7D%0A%20%20%20%20%20%20%20%20%20%20%20%20%29.addTo%28map_d2171a335bdb4e608155a8bc2fa76734%29%3B%0A%20%20%20%20%20%20%20%20%0A%20%20%20%20%0A%20%20%20%20%20%20%20%20var%20popup_fac01c8ffc064e179d73b9f4e61df4ae%20%3D%20L.popup%28%7B%22maxWidth%22%3A%20%22100%25%22%7D%29%3B%0A%0A%20%20%20%20%20%20%20%20%0A%20%20%20%20%20%20%20%20%20%20%20%20var%20html_a4ea7e72961545dc867c10bb8060e6b6%20%3D%20%24%28%60%3Cdiv%20id%3D%22html_a4ea7e72961545dc867c10bb8060e6b6%22%20style%3D%22width%3A%20100.0%25%3B%20height%3A%20100.0%25%3B%22%3EFIERY-BOBCAT%3C/div%3E%60%29%5B0%5D%3B%0A%20%20%20%20%20%20%20%20%20%20%20%20popup_fac01c8ffc064e179d73b9f4e61df4ae.setContent%28html_a4ea7e72961545dc867c10bb8060e6b6%29%3B%0A%20%20%20%20%20%20%20%20%0A%0A%20%20%20%20%20%20%20%20marker_9b5a0536e31a4e50bd474673f7292f33.bindPopup%28popup_fac01c8ffc064e179d73b9f4e61df4ae%29%0A%20%20%20%20%20%20%20%20%3B%0A%0A%20%20%20%20%20%20%20%20%0A%20%20%20%20%0A%20%20%20%20%0A%20%20%20%20%20%20%20%20%20%20%20%20var%20marker_49aa8021b7a946eb95933cb4b23b8fe8%20%3D%20L.marker%28%0A%20%20%20%20%20%20%20%20%20%20%20%20%20%20%20%20%5B61.67984274594789%2C%2033.31244648719306%5D%2C%0A%20%20%20%20%20%20%20%20%20%20%20%20%20%20%20%20%7B%7D%0A%20%20%20%20%20%20%20%20%20%20%20%20%29.addTo%28map_d2171a335bdb4e608155a8bc2fa76734%29%3B%0A%20%20%20%20%20%20%20%20%0A%20%20%20%20%0A%20%20%20%20%20%20%20%20var%20popup_19385c63ffdf4b749389396f44a829fd%20%3D%20L.popup%28%7B%22maxWidth%22%3A%20%22100%25%22%7D%29%3B%0A%0A%20%20%20%20%20%20%20%20%0A%20%20%20%20%20%20%20%20%20%20%20%20var%20html_289698b6320d4e4b8c168b9d09996d09%20%3D%20%24%28%60%3Cdiv%20id%3D%22html_289698b6320d4e4b8c168b9d09996d09%22%20style%3D%22width%3A%20100.0%25%3B%20height%3A%20100.0%25%3B%22%3EBIPEDAL-UAKARI%3C/div%3E%60%29%5B0%5D%3B%0A%20%20%20%20%20%20%20%20%20%20%20%20popup_19385c63ffdf4b749389396f44a829fd.setContent%28html_289698b6320d4e4b8c168b9d09996d09%29%3B%0A%20%20%20%20%20%20%20%20%0A%0A%20%20%20%20%20%20%20%20marker_49aa8021b7a946eb95933cb4b23b8fe8.bindPopup%28popup_19385c63ffdf4b749389396f44a829fd%29%0A%20%20%20%20%20%20%20%20%3B%0A%0A%20%20%20%20%20%20%20%20%0A%20%20%20%20%0A%20%20%20%20%0A%20%20%20%20%20%20%20%20%20%20%20%20var%20marker_851a83f4b6914cd18b3c805925f0487f%20%3D%20L.marker%28%0A%20%20%20%20%20%20%20%20%20%20%20%20%20%20%20%20%5B-2.893581407222001%2C%20-63.05463813052691%5D%2C%0A%20%20%20%20%20%20%20%20%20%20%20%20%20%20%20%20%7B%7D%0A%20%20%20%20%20%20%20%20%20%20%20%20%29.addTo%28map_d2171a335bdb4e608155a8bc2fa76734%29%3B%0A%20%20%20%20%20%20%20%20%0A%20%20%20%20%0A%20%20%20%20%20%20%20%20var%20popup_2cc1249bdbae413abd84c8416a0710af%20%3D%20L.popup%28%7B%22maxWidth%22%3A%20%22100%25%22%7D%29%3B%0A%0A%20%20%20%20%20%20%20%20%0A%20%20%20%20%20%20%20%20%20%20%20%20var%20html_2f18f416834e4927a8e7f1251a0351fc%20%3D%20%24%28%60%3Cdiv%20id%3D%22html_2f18f416834e4927a8e7f1251a0351fc%22%20style%3D%22width%3A%20100.0%25%3B%20height%3A%20100.0%25%3B%22%3ELUSH-CHIPMUNK%3C/div%3E%60%29%5B0%5D%3B%0A%20%20%20%20%20%20%20%20%20%20%20%20popup_2cc1249bdbae413abd84c8416a0710af.setContent%28html_2f18f416834e4927a8e7f1251a0351fc%29%3B%0A%20%20%20%20%20%20%20%20%0A%0A%20%20%20%20%20%20%20%20marker_851a83f4b6914cd18b3c805925f0487f.bindPopup%28popup_2cc1249bdbae413abd84c8416a0710af%29%0A%20%20%20%20%20%20%20%20%3B%0A%0A%20%20%20%20%20%20%20%20%0A%20%20%20%20%0A%20%20%20%20%0A%20%20%20%20%20%20%20%20%20%20%20%20var%20marker_df22c544adba4ac9bc0d6ed68ced66a6%20%3D%20L.marker%28%0A%20%20%20%20%20%20%20%20%20%20%20%20%20%20%20%20%5B51.34683912481428%2C%2020.095591780253983%5D%2C%0A%20%20%20%20%20%20%20%20%20%20%20%20%20%20%20%20%7B%7D%0A%20%20%20%20%20%20%20%20%20%20%20%20%29.addTo%28map_d2171a335bdb4e608155a8bc2fa76734%29%3B%0A%20%20%20%20%20%20%20%20%0A%20%20%20%20%0A%20%20%20%20%20%20%20%20var%20popup_55cdbcf916bb4e81a908a180e37e13e4%20%3D%20L.popup%28%7B%22maxWidth%22%3A%20%22100%25%22%7D%29%3B%0A%0A%20%20%20%20%20%20%20%20%0A%20%20%20%20%20%20%20%20%20%20%20%20var%20html_beb234029d8c449f99eb4635cf5b5b4d%20%3D%20%24%28%60%3Cdiv%20id%3D%22html_beb234029d8c449f99eb4635cf5b5b4d%22%20style%3D%22width%3A%20100.0%25%3B%20height%3A%20100.0%25%3B%22%3EHYPERSONIC-BULLDOG%3C/div%3E%60%29%5B0%5D%3B%0A%20%20%20%20%20%20%20%20%20%20%20%20popup_55cdbcf916bb4e81a908a180e37e13e4.setContent%28html_beb234029d8c449f99eb4635cf5b5b4d%29%3B%0A%20%20%20%20%20%20%20%20%0A%0A%20%20%20%20%20%20%20%20marker_df22c544adba4ac9bc0d6ed68ced66a6.bindPopup%28popup_55cdbcf916bb4e81a908a180e37e13e4%29%0A%20%20%20%20%20%20%20%20%3B%0A%0A%20%20%20%20%20%20%20%20%0A%20%20%20%20%0A%20%20%20%20%0A%20%20%20%20%20%20%20%20%20%20%20%20var%20marker_a02e015bcb5941b5a34eddfdf0a9431f%20%3D%20L.marker%28%0A%20%20%20%20%20%20%20%20%20%20%20%20%20%20%20%20%5B60.06873412810111%2C%20-101.87591676637416%5D%2C%0A%20%20%20%20%20%20%20%20%20%20%20%20%20%20%20%20%7B%7D%0A%20%20%20%20%20%20%20%20%20%20%20%20%29.addTo%28map_d2171a335bdb4e608155a8bc2fa76734%29%3B%0A%20%20%20%20%20%20%20%20%0A%20%20%20%20%0A%20%20%20%20%20%20%20%20var%20popup_6a1bd70b8a1d405ab91f59e82977740b%20%3D%20L.popup%28%7B%22maxWidth%22%3A%20%22100%25%22%7D%29%3B%0A%0A%20%20%20%20%20%20%20%20%0A%20%20%20%20%20%20%20%20%20%20%20%20var%20html_145afca067db4ae2ac1adea35275981d%20%3D%20%24%28%60%3Cdiv%20id%3D%22html_145afca067db4ae2ac1adea35275981d%22%20style%3D%22width%3A%20100.0%25%3B%20height%3A%20100.0%25%3B%22%3ETUSCAN-CAPUCHIN%3C/div%3E%60%29%5B0%5D%3B%0A%20%20%20%20%20%20%20%20%20%20%20%20popup_6a1bd70b8a1d405ab91f59e82977740b.setContent%28html_145afca067db4ae2ac1adea35275981d%29%3B%0A%20%20%20%20%20%20%20%20%0A%0A%20%20%20%20%20%20%20%20marker_a02e015bcb5941b5a34eddfdf0a9431f.bindPopup%28popup_6a1bd70b8a1d405ab91f59e82977740b%29%0A%20%20%20%20%20%20%20%20%3B%0A%0A%20%20%20%20%20%20%20%20%0A%20%20%20%20%0A%20%20%20%20%0A%20%20%20%20%20%20%20%20%20%20%20%20var%20marker_30c7110075b44cc49e3ca232c9147600%20%3D%20L.marker%28%0A%20%20%20%20%20%20%20%20%20%20%20%20%20%20%20%20%5B58.091531493142725%2C%20-71.7393748611775%5D%2C%0A%20%20%20%20%20%20%20%20%20%20%20%20%20%20%20%20%7B%7D%0A%20%20%20%20%20%20%20%20%20%20%20%20%29.addTo%28map_d2171a335bdb4e608155a8bc2fa76734%29%3B%0A%20%20%20%20%20%20%20%20%0A%20%20%20%20%0A%20%20%20%20%20%20%20%20var%20popup_2f1978cfcaa74cd18c1e0a38a0ee9360%20%3D%20L.popup%28%7B%22maxWidth%22%3A%20%22100%25%22%7D%29%3B%0A%0A%20%20%20%20%20%20%20%20%0A%20%20%20%20%20%20%20%20%20%20%20%20var%20html_d9d7e4b7ca1746b78827914329f76ad5%20%3D%20%24%28%60%3Cdiv%20id%3D%22html_d9d7e4b7ca1746b78827914329f76ad5%22%20style%3D%22width%3A%20100.0%25%3B%20height%3A%20100.0%25%3B%22%3EMUSTARD-PANDA%3C/div%3E%60%29%5B0%5D%3B%0A%20%20%20%20%20%20%20%20%20%20%20%20popup_2f1978cfcaa74cd18c1e0a38a0ee9360.setContent%28html_d9d7e4b7ca1746b78827914329f76ad5%29%3B%0A%20%20%20%20%20%20%20%20%0A%0A%20%20%20%20%20%20%20%20marker_30c7110075b44cc49e3ca232c9147600.bindPopup%28popup_2f1978cfcaa74cd18c1e0a38a0ee9360%29%0A%20%20%20%20%20%20%20%20%3B%0A%0A%20%20%20%20%20%20%20%20%0A%20%20%20%20%0A%20%20%20%20%0A%20%20%20%20%20%20%20%20%20%20%20%20var%20marker_e5404bb50b294d4c925867dcc757fcf8%20%3D%20L.marker%28%0A%20%20%20%20%20%20%20%20%20%20%20%20%20%20%20%20%5B29.13324096707197%2C%20116.98763740843128%5D%2C%0A%20%20%20%20%20%20%20%20%20%20%20%20%20%20%20%20%7B%7D%0A%20%20%20%20%20%20%20%20%20%20%20%20%29.addTo%28map_d2171a335bdb4e608155a8bc2fa76734%29%3B%0A%20%20%20%20%20%20%20%20%0A%20%20%20%20%0A%20%20%20%20%20%20%20%20var%20popup_a34db7ec72aa4c73b37d71cd21c8c402%20%3D%20L.popup%28%7B%22maxWidth%22%3A%20%22100%25%22%7D%29%3B%0A%0A%20%20%20%20%20%20%20%20%0A%20%20%20%20%20%20%20%20%20%20%20%20var%20html_0797a8bb7d3345c7880b39b86e3c46f0%20%3D%20%24%28%60%3Cdiv%20id%3D%22html_0797a8bb7d3345c7880b39b86e3c46f0%22%20style%3D%22width%3A%20100.0%25%3B%20height%3A%20100.0%25%3B%22%3ENIFTY-MULE%3C/div%3E%60%29%5B0%5D%3B%0A%20%20%20%20%20%20%20%20%20%20%20%20popup_a34db7ec72aa4c73b37d71cd21c8c402.setContent%28html_0797a8bb7d3345c7880b39b86e3c46f0%29%3B%0A%20%20%20%20%20%20%20%20%0A%0A%20%20%20%20%20%20%20%20marker_e5404bb50b294d4c925867dcc757fcf8.bindPopup%28popup_a34db7ec72aa4c73b37d71cd21c8c402%29%0A%20%20%20%20%20%20%20%20%3B%0A%0A%20%20%20%20%20%20%20%20%0A%20%20%20%20%0A%20%20%20%20%0A%20%20%20%20%20%20%20%20%20%20%20%20var%20marker_fa4b429ab9e64b51a1107499c0208ae0%20%3D%20L.marker%28%0A%20%20%20%20%20%20%20%20%20%20%20%20%20%20%20%20%5B-7.716990930235916%2C%20143.35684774091447%5D%2C%0A%20%20%20%20%20%20%20%20%20%20%20%20%20%20%20%20%7B%7D%0A%20%20%20%20%20%20%20%20%20%20%20%20%29.addTo%28map_d2171a335bdb4e608155a8bc2fa76734%29%3B%0A%20%20%20%20%20%20%20%20%0A%20%20%20%20%0A%20%20%20%20%20%20%20%20var%20popup_de545b1a4cb8449fb178994c3e5bd23d%20%3D%20L.popup%28%7B%22maxWidth%22%3A%20%22100%25%22%7D%29%3B%0A%0A%20%20%20%20%20%20%20%20%0A%20%20%20%20%20%20%20%20%20%20%20%20var%20html_dac7923804ba479fb71f3e825d879c91%20%3D%20%24%28%60%3Cdiv%20id%3D%22html_dac7923804ba479fb71f3e825d879c91%22%20style%3D%22width%3A%20100.0%25%3B%20height%3A%20100.0%25%3B%22%3ETOURMALINE-MOUSE%3C/div%3E%60%29%5B0%5D%3B%0A%20%20%20%20%20%20%20%20%20%20%20%20popup_de545b1a4cb8449fb178994c3e5bd23d.setContent%28html_dac7923804ba479fb71f3e825d879c91%29%3B%0A%20%20%20%20%20%20%20%20%0A%0A%20%20%20%20%20%20%20%20marker_fa4b429ab9e64b51a1107499c0208ae0.bindPopup%28popup_de545b1a4cb8449fb178994c3e5bd23d%29%0A%20%20%20%20%20%20%20%20%3B%0A%0A%20%20%20%20%20%20%20%20%0A%20%20%20%20%0A%20%20%20%20%0A%20%20%20%20%20%20%20%20%20%20%20%20var%20marker_4d98372e550f49e19f9acd34d7f0525d%20%3D%20L.marker%28%0A%20%20%20%20%20%20%20%20%20%20%20%20%20%20%20%20%5B48.04507668845892%2C%20-0.0002588989562468%5D%2C%0A%20%20%20%20%20%20%20%20%20%20%20%20%20%20%20%20%7B%7D%0A%20%20%20%20%20%20%20%20%20%20%20%20%29.addTo%28map_d2171a335bdb4e608155a8bc2fa76734%29%3B%0A%20%20%20%20%20%20%20%20%0A%20%20%20%20%0A%20%20%20%20%20%20%20%20var%20popup_719ea9ff00714bdc8eeefa6492daf052%20%3D%20L.popup%28%7B%22maxWidth%22%3A%20%22100%25%22%7D%29%3B%0A%0A%20%20%20%20%20%20%20%20%0A%20%20%20%20%20%20%20%20%20%20%20%20var%20html_b6f3cc85c7154cc1be846f16f4df83ae%20%3D%20%24%28%60%3Cdiv%20id%3D%22html_b6f3cc85c7154cc1be846f16f4df83ae%22%20style%3D%22width%3A%20100.0%25%3B%20height%3A%20100.0%25%3B%22%3EANNOYING-SPONGE%3C/div%3E%60%29%5B0%5D%3B%0A%20%20%20%20%20%20%20%20%20%20%20%20popup_719ea9ff00714bdc8eeefa6492daf052.setContent%28html_b6f3cc85c7154cc1be846f16f4df83ae%29%3B%0A%20%20%20%20%20%20%20%20%0A%0A%20%20%20%20%20%20%20%20marker_4d98372e550f49e19f9acd34d7f0525d.bindPopup%28popup_719ea9ff00714bdc8eeefa6492daf052%29%0A%20%20%20%20%20%20%20%20%3B%0A%0A%20%20%20%20%20%20%20%20%0A%20%20%20%20%0A%20%20%20%20%0A%20%20%20%20%20%20%20%20%20%20%20%20var%20marker_9ee0bc1286114ba09fe6d1ebbe34246a%20%3D%20L.marker%28%0A%20%20%20%20%20%20%20%20%20%20%20%20%20%20%20%20%5B55.17001926886098%2C%20-122.75011369152456%5D%2C%0A%20%20%20%20%20%20%20%20%20%20%20%20%20%20%20%20%7B%7D%0A%20%20%20%20%20%20%20%20%20%20%20%20%29.addTo%28map_d2171a335bdb4e608155a8bc2fa76734%29%3B%0A%20%20%20%20%20%20%20%20%0A%20%20%20%20%0A%20%20%20%20%20%20%20%20var%20popup_bc7becd5e1a341a0b36bfb920a544faf%20%3D%20L.popup%28%7B%22maxWidth%22%3A%20%22100%25%22%7D%29%3B%0A%0A%20%20%20%20%20%20%20%20%0A%20%20%20%20%20%20%20%20%20%20%20%20var%20html_8991b0ffc62945c89f413b934f61ab64%20%3D%20%24%28%60%3Cdiv%20id%3D%22html_8991b0ffc62945c89f413b934f61ab64%22%20style%3D%22width%3A%20100.0%25%3B%20height%3A%20100.0%25%3B%22%3EROSE-KINGFISHER%3C/div%3E%60%29%5B0%5D%3B%0A%20%20%20%20%20%20%20%20%20%20%20%20popup_bc7becd5e1a341a0b36bfb920a544faf.setContent%28html_8991b0ffc62945c89f413b934f61ab64%29%3B%0A%20%20%20%20%20%20%20%20%0A%0A%20%20%20%20%20%20%20%20marker_9ee0bc1286114ba09fe6d1ebbe34246a.bindPopup%28popup_bc7becd5e1a341a0b36bfb920a544faf%29%0A%20%20%20%20%20%20%20%20%3B%0A%0A%20%20%20%20%20%20%20%20%0A%20%20%20%20%0A%20%20%20%20%0A%20%20%20%20%20%20%20%20%20%20%20%20var%20marker_7b9e945a33e3474aaa6eb9f8e97e2ad4%20%3D%20L.marker%28%0A%20%20%20%20%20%20%20%20%20%20%20%20%20%20%20%20%5B-33.29629815086906%2C%2024.449636131675987%5D%2C%0A%20%20%20%20%20%20%20%20%20%20%20%20%20%20%20%20%7B%7D%0A%20%20%20%20%20%20%20%20%20%20%20%20%29.addTo%28map_d2171a335bdb4e608155a8bc2fa76734%29%3B%0A%20%20%20%20%20%20%20%20%0A%20%20%20%20%0A%20%20%20%20%20%20%20%20var%20popup_9aa7ea16762c48709015dfc34ae1d0b3%20%3D%20L.popup%28%7B%22maxWidth%22%3A%20%22100%25%22%7D%29%3B%0A%0A%20%20%20%20%20%20%20%20%0A%20%20%20%20%20%20%20%20%20%20%20%20var%20html_bfb4fa3c7e3149a8a6bea83f6fdc4e12%20%3D%20%24%28%60%3Cdiv%20id%3D%22html_bfb4fa3c7e3149a8a6bea83f6fdc4e12%22%20style%3D%22width%3A%20100.0%25%3B%20height%3A%20100.0%25%3B%22%3EBEAUTIFUL-HIPPO%3C/div%3E%60%29%5B0%5D%3B%0A%20%20%20%20%20%20%20%20%20%20%20%20popup_9aa7ea16762c48709015dfc34ae1d0b3.setContent%28html_bfb4fa3c7e3149a8a6bea83f6fdc4e12%29%3B%0A%20%20%20%20%20%20%20%20%0A%0A%20%20%20%20%20%20%20%20marker_7b9e945a33e3474aaa6eb9f8e97e2ad4.bindPopup%28popup_9aa7ea16762c48709015dfc34ae1d0b3%29%0A%20%20%20%20%20%20%20%20%3B%0A%0A%20%20%20%20%20%20%20%20%0A%20%20%20%20%0A%20%20%20%20%0A%20%20%20%20%20%20%20%20%20%20%20%20var%20marker_164e58c807b34c29880936de726a3a95%20%3D%20L.marker%28%0A%20%20%20%20%20%20%20%20%20%20%20%20%20%20%20%20%5B21.650943371253703%2C%2041.110107464084535%5D%2C%0A%20%20%20%20%20%20%20%20%20%20%20%20%20%20%20%20%7B%7D%0A%20%20%20%20%20%20%20%20%20%20%20%20%29.addTo%28map_d2171a335bdb4e608155a8bc2fa76734%29%3B%0A%20%20%20%20%20%20%20%20%0A%20%20%20%20%0A%20%20%20%20%20%20%20%20var%20popup_d4a92e9f45574e8a900e77b9a19c8d24%20%3D%20L.popup%28%7B%22maxWidth%22%3A%20%22100%25%22%7D%29%3B%0A%0A%20%20%20%20%20%20%20%20%0A%20%20%20%20%20%20%20%20%20%20%20%20var%20html_2b17e5fe89a04d7583f632f5fafb3f52%20%3D%20%24%28%60%3Cdiv%20id%3D%22html_2b17e5fe89a04d7583f632f5fafb3f52%22%20style%3D%22width%3A%20100.0%25%3B%20height%3A%20100.0%25%3B%22%3EVORACIOUS-PARROT%3C/div%3E%60%29%5B0%5D%3B%0A%20%20%20%20%20%20%20%20%20%20%20%20popup_d4a92e9f45574e8a900e77b9a19c8d24.setContent%28html_2b17e5fe89a04d7583f632f5fafb3f52%29%3B%0A%20%20%20%20%20%20%20%20%0A%0A%20%20%20%20%20%20%20%20marker_164e58c807b34c29880936de726a3a95.bindPopup%28popup_d4a92e9f45574e8a900e77b9a19c8d24%29%0A%20%20%20%20%20%20%20%20%3B%0A%0A%20%20%20%20%20%20%20%20%0A%20%20%20%20%0A%20%20%20%20%0A%20%20%20%20%20%20%20%20%20%20%20%20var%20marker_49f2ca7c6cb34541b6152b1e17ea2223%20%3D%20L.marker%28%0A%20%20%20%20%20%20%20%20%20%20%20%20%20%20%20%20%5B61.91222629965188%2C%2051.87282967560313%5D%2C%0A%20%20%20%20%20%20%20%20%20%20%20%20%20%20%20%20%7B%7D%0A%20%20%20%20%20%20%20%20%20%20%20%20%29.addTo%28map_d2171a335bdb4e608155a8bc2fa76734%29%3B%0A%20%20%20%20%20%20%20%20%0A%20%20%20%20%0A%20%20%20%20%20%20%20%20var%20popup_c7be2326ef6d4ecbaf65a794f239a089%20%3D%20L.popup%28%7B%22maxWidth%22%3A%20%22100%25%22%7D%29%3B%0A%0A%20%20%20%20%20%20%20%20%0A%20%20%20%20%20%20%20%20%20%20%20%20var%20html_6e59010c7a5b4243af3e8c1441f805e9%20%3D%20%24%28%60%3Cdiv%20id%3D%22html_6e59010c7a5b4243af3e8c1441f805e9%22%20style%3D%22width%3A%20100.0%25%3B%20height%3A%20100.0%25%3B%22%3ESTOIC-KOEL%3C/div%3E%60%29%5B0%5D%3B%0A%20%20%20%20%20%20%20%20%20%20%20%20popup_c7be2326ef6d4ecbaf65a794f239a089.setContent%28html_6e59010c7a5b4243af3e8c1441f805e9%29%3B%0A%20%20%20%20%20%20%20%20%0A%0A%20%20%20%20%20%20%20%20marker_49f2ca7c6cb34541b6152b1e17ea2223.bindPopup%28popup_c7be2326ef6d4ecbaf65a794f239a089%29%0A%20%20%20%20%20%20%20%20%3B%0A%0A%20%20%20%20%20%20%20%20%0A%20%20%20%20%0A%20%20%20%20%0A%20%20%20%20%20%20%20%20%20%20%20%20var%20marker_398def92d347440bb124d16212c72f04%20%3D%20L.marker%28%0A%20%20%20%20%20%20%20%20%20%20%20%20%20%20%20%20%5B44.80646883905612%2C%20-112.39550301242788%5D%2C%0A%20%20%20%20%20%20%20%20%20%20%20%20%20%20%20%20%7B%7D%0A%20%20%20%20%20%20%20%20%20%20%20%20%29.addTo%28map_d2171a335bdb4e608155a8bc2fa76734%29%3B%0A%20%20%20%20%20%20%20%20%0A%20%20%20%20%0A%20%20%20%20%20%20%20%20var%20popup_895997f166c8401bb4e8a33a2106e222%20%3D%20L.popup%28%7B%22maxWidth%22%3A%20%22100%25%22%7D%29%3B%0A%0A%20%20%20%20%20%20%20%20%0A%20%20%20%20%20%20%20%20%20%20%20%20var%20html_dbd1ccb2b30a43d89e644ad100ea24bc%20%3D%20%24%28%60%3Cdiv%20id%3D%22html_dbd1ccb2b30a43d89e644ad100ea24bc%22%20style%3D%22width%3A%20100.0%25%3B%20height%3A%20100.0%25%3B%22%3ECOBALT-CATFISH%3C/div%3E%60%29%5B0%5D%3B%0A%20%20%20%20%20%20%20%20%20%20%20%20popup_895997f166c8401bb4e8a33a2106e222.setContent%28html_dbd1ccb2b30a43d89e644ad100ea24bc%29%3B%0A%20%20%20%20%20%20%20%20%0A%0A%20%20%20%20%20%20%20%20marker_398def92d347440bb124d16212c72f04.bindPopup%28popup_895997f166c8401bb4e8a33a2106e222%29%0A%20%20%20%20%20%20%20%20%3B%0A%0A%20%20%20%20%20%20%20%20%0A%20%20%20%20%0A%20%20%20%20%0A%20%20%20%20%20%20%20%20%20%20%20%20var%20marker_0e684b1d27ea4e2096c64208a6e2abf6%20%3D%20L.marker%28%0A%20%20%20%20%20%20%20%20%20%20%20%20%20%20%20%20%5B-36.84528347698573%2C%20-66.0697307258626%5D%2C%0A%20%20%20%20%20%20%20%20%20%20%20%20%20%20%20%20%7B%7D%0A%20%20%20%20%20%20%20%20%20%20%20%20%29.addTo%28map_d2171a335bdb4e608155a8bc2fa76734%29%3B%0A%20%20%20%20%20%20%20%20%0A%20%20%20%20%0A%20%20%20%20%20%20%20%20var%20popup_5f00bb82751949bc8fcbccf178017029%20%3D%20L.popup%28%7B%22maxWidth%22%3A%20%22100%25%22%7D%29%3B%0A%0A%20%20%20%20%20%20%20%20%0A%20%20%20%20%20%20%20%20%20%20%20%20var%20html_2cad59cb1eba45f7ac145cef77623e2d%20%3D%20%24%28%60%3Cdiv%20id%3D%22html_2cad59cb1eba45f7ac145cef77623e2d%22%20style%3D%22width%3A%20100.0%25%3B%20height%3A%20100.0%25%3B%22%3ECERULEAN-NAUTILUS%3C/div%3E%60%29%5B0%5D%3B%0A%20%20%20%20%20%20%20%20%20%20%20%20popup_5f00bb82751949bc8fcbccf178017029.setContent%28html_2cad59cb1eba45f7ac145cef77623e2d%29%3B%0A%20%20%20%20%20%20%20%20%0A%0A%20%20%20%20%20%20%20%20marker_0e684b1d27ea4e2096c64208a6e2abf6.bindPopup%28popup_5f00bb82751949bc8fcbccf178017029%29%0A%20%20%20%20%20%20%20%20%3B%0A%0A%20%20%20%20%20%20%20%20%0A%20%20%20%20%0A%20%20%20%20%0A%20%20%20%20%20%20%20%20%20%20%20%20var%20marker_7a967fb55f1241b0806ca80a44e9786e%20%3D%20L.marker%28%0A%20%20%20%20%20%20%20%20%20%20%20%20%20%20%20%20%5B-30.204917231037527%2C%20121.71999608637697%5D%2C%0A%20%20%20%20%20%20%20%20%20%20%20%20%20%20%20%20%7B%7D%0A%20%20%20%20%20%20%20%20%20%20%20%20%29.addTo%28map_d2171a335bdb4e608155a8bc2fa76734%29%3B%0A%20%20%20%20%20%20%20%20%0A%20%20%20%20%0A%20%20%20%20%20%20%20%20var%20popup_1c6feb011f6d42dbb77a561c9074c8af%20%3D%20L.popup%28%7B%22maxWidth%22%3A%20%22100%25%22%7D%29%3B%0A%0A%20%20%20%20%20%20%20%20%0A%20%20%20%20%20%20%20%20%20%20%20%20var%20html_d8d1a203b79842159baf9c3b20ba0b33%20%3D%20%24%28%60%3Cdiv%20id%3D%22html_d8d1a203b79842159baf9c3b20ba0b33%22%20style%3D%22width%3A%20100.0%25%3B%20height%3A%20100.0%25%3B%22%3EPRAGMATIC-MASTIFF%3C/div%3E%60%29%5B0%5D%3B%0A%20%20%20%20%20%20%20%20%20%20%20%20popup_1c6feb011f6d42dbb77a561c9074c8af.setContent%28html_d8d1a203b79842159baf9c3b20ba0b33%29%3B%0A%20%20%20%20%20%20%20%20%0A%0A%20%20%20%20%20%20%20%20marker_7a967fb55f1241b0806ca80a44e9786e.bindPopup%28popup_1c6feb011f6d42dbb77a561c9074c8af%29%0A%20%20%20%20%20%20%20%20%3B%0A%0A%20%20%20%20%20%20%20%20%0A%20%20%20%20%0A%20%20%20%20%0A%20%20%20%20%20%20%20%20%20%20%20%20var%20marker_b6ae323b39c1416fb6e12c130ee0e85d%20%3D%20L.marker%28%0A%20%20%20%20%20%20%20%20%20%20%20%20%20%20%20%20%5B23.46934473380161%2C%2035.45780052300063%5D%2C%0A%20%20%20%20%20%20%20%20%20%20%20%20%20%20%20%20%7B%7D%0A%20%20%20%20%20%20%20%20%20%20%20%20%29.addTo%28map_d2171a335bdb4e608155a8bc2fa76734%29%3B%0A%20%20%20%20%20%20%20%20%0A%20%20%20%20%0A%20%20%20%20%20%20%20%20var%20popup_249c2a80ef6743808fba2e6476459733%20%3D%20L.popup%28%7B%22maxWidth%22%3A%20%22100%25%22%7D%29%3B%0A%0A%20%20%20%20%20%20%20%20%0A%20%20%20%20%20%20%20%20%20%20%20%20var%20html_b66e167f090747769eef19dda2f952b3%20%3D%20%24%28%60%3Cdiv%20id%3D%22html_b66e167f090747769eef19dda2f952b3%22%20style%3D%22width%3A%20100.0%25%3B%20height%3A%20100.0%25%3B%22%3ERAPID-CARACARA%3C/div%3E%60%29%5B0%5D%3B%0A%20%20%20%20%20%20%20%20%20%20%20%20popup_249c2a80ef6743808fba2e6476459733.setContent%28html_b66e167f090747769eef19dda2f952b3%29%3B%0A%20%20%20%20%20%20%20%20%0A%0A%20%20%20%20%20%20%20%20marker_b6ae323b39c1416fb6e12c130ee0e85d.bindPopup%28popup_249c2a80ef6743808fba2e6476459733%29%0A%20%20%20%20%20%20%20%20%3B%0A%0A%20%20%20%20%20%20%20%20%0A%20%20%20%20%0A%20%20%20%20%0A%20%20%20%20%20%20%20%20%20%20%20%20var%20marker_edfe2f3b44904e91967c44ee8bd939eb%20%3D%20L.marker%28%0A%20%20%20%20%20%20%20%20%20%20%20%20%20%20%20%20%5B57.577210594305726%2C%2043.57886258584%5D%2C%0A%20%20%20%20%20%20%20%20%20%20%20%20%20%20%20%20%7B%7D%0A%20%20%20%20%20%20%20%20%20%20%20%20%29.addTo%28map_d2171a335bdb4e608155a8bc2fa76734%29%3B%0A%20%20%20%20%20%20%20%20%0A%20%20%20%20%0A%20%20%20%20%20%20%20%20var%20popup_72f2c08ea662401b8efd73130372f947%20%3D%20L.popup%28%7B%22maxWidth%22%3A%20%22100%25%22%7D%29%3B%0A%0A%20%20%20%20%20%20%20%20%0A%20%20%20%20%20%20%20%20%20%20%20%20var%20html_0b905c2d2e4c4cd194093eba26bc9581%20%3D%20%24%28%60%3Cdiv%20id%3D%22html_0b905c2d2e4c4cd194093eba26bc9581%22%20style%3D%22width%3A%20100.0%25%3B%20height%3A%20100.0%25%3B%22%3ECOBALT-MALKOHA%3C/div%3E%60%29%5B0%5D%3B%0A%20%20%20%20%20%20%20%20%20%20%20%20popup_72f2c08ea662401b8efd73130372f947.setContent%28html_0b905c2d2e4c4cd194093eba26bc9581%29%3B%0A%20%20%20%20%20%20%20%20%0A%0A%20%20%20%20%20%20%20%20marker_edfe2f3b44904e91967c44ee8bd939eb.bindPopup%28popup_72f2c08ea662401b8efd73130372f947%29%0A%20%20%20%20%20%20%20%20%3B%0A%0A%20%20%20%20%20%20%20%20%0A%20%20%20%20%0A%20%20%20%20%0A%20%20%20%20%20%20%20%20%20%20%20%20var%20marker_38aab6cfbdfe4d0cb66c1b5f7a1e6b04%20%3D%20L.marker%28%0A%20%20%20%20%20%20%20%20%20%20%20%20%20%20%20%20%5B30.77194635580493%2C%20109.00631815650593%5D%2C%0A%20%20%20%20%20%20%20%20%20%20%20%20%20%20%20%20%7B%7D%0A%20%20%20%20%20%20%20%20%20%20%20%20%29.addTo%28map_d2171a335bdb4e608155a8bc2fa76734%29%3B%0A%20%20%20%20%20%20%20%20%0A%20%20%20%20%0A%20%20%20%20%20%20%20%20var%20popup_0e509a90cc4a45569b1867343251eb3d%20%3D%20L.popup%28%7B%22maxWidth%22%3A%20%22100%25%22%7D%29%3B%0A%0A%20%20%20%20%20%20%20%20%0A%20%20%20%20%20%20%20%20%20%20%20%20var%20html_3f8991298f914c3bbbb5bb6ad80cc42e%20%3D%20%24%28%60%3Cdiv%20id%3D%22html_3f8991298f914c3bbbb5bb6ad80cc42e%22%20style%3D%22width%3A%20100.0%25%3B%20height%3A%20100.0%25%3B%22%3ESAGE-PRAWN%3C/div%3E%60%29%5B0%5D%3B%0A%20%20%20%20%20%20%20%20%20%20%20%20popup_0e509a90cc4a45569b1867343251eb3d.setContent%28html_3f8991298f914c3bbbb5bb6ad80cc42e%29%3B%0A%20%20%20%20%20%20%20%20%0A%0A%20%20%20%20%20%20%20%20marker_38aab6cfbdfe4d0cb66c1b5f7a1e6b04.bindPopup%28popup_0e509a90cc4a45569b1867343251eb3d%29%0A%20%20%20%20%20%20%20%20%3B%0A%0A%20%20%20%20%20%20%20%20%0A%20%20%20%20%0A%20%20%20%20%0A%20%20%20%20%20%20%20%20%20%20%20%20var%20marker_d8f0d4136a5048379c136a473a67e63d%20%3D%20L.marker%28%0A%20%20%20%20%20%20%20%20%20%20%20%20%20%20%20%20%5B61.87576194841188%2C%2028.36597780456617%5D%2C%0A%20%20%20%20%20%20%20%20%20%20%20%20%20%20%20%20%7B%7D%0A%20%20%20%20%20%20%20%20%20%20%20%20%29.addTo%28map_d2171a335bdb4e608155a8bc2fa76734%29%3B%0A%20%20%20%20%20%20%20%20%0A%20%20%20%20%0A%20%20%20%20%20%20%20%20var%20popup_794c2d659e1a4ba48103850b13a4772e%20%3D%20L.popup%28%7B%22maxWidth%22%3A%20%22100%25%22%7D%29%3B%0A%0A%20%20%20%20%20%20%20%20%0A%20%20%20%20%20%20%20%20%20%20%20%20var%20html_e4be224ece8840c48c19d785a44c75e8%20%3D%20%24%28%60%3Cdiv%20id%3D%22html_e4be224ece8840c48c19d785a44c75e8%22%20style%3D%22width%3A%20100.0%25%3B%20height%3A%20100.0%25%3B%22%3EANGELIC-REINDEER%3C/div%3E%60%29%5B0%5D%3B%0A%20%20%20%20%20%20%20%20%20%20%20%20popup_794c2d659e1a4ba48103850b13a4772e.setContent%28html_e4be224ece8840c48c19d785a44c75e8%29%3B%0A%20%20%20%20%20%20%20%20%0A%0A%20%20%20%20%20%20%20%20marker_d8f0d4136a5048379c136a473a67e63d.bindPopup%28popup_794c2d659e1a4ba48103850b13a4772e%29%0A%20%20%20%20%20%20%20%20%3B%0A%0A%20%20%20%20%20%20%20%20%0A%20%20%20%20%0A%20%20%20%20%0A%20%20%20%20%20%20%20%20%20%20%20%20var%20marker_f345a826b95741ba9d54f78c9928293c%20%3D%20L.marker%28%0A%20%20%20%20%20%20%20%20%20%20%20%20%20%20%20%20%5B-5.825077633982005%2C%20-79.54092741757468%5D%2C%0A%20%20%20%20%20%20%20%20%20%20%20%20%20%20%20%20%7B%7D%0A%20%20%20%20%20%20%20%20%20%20%20%20%29.addTo%28map_d2171a335bdb4e608155a8bc2fa76734%29%3B%0A%20%20%20%20%20%20%20%20%0A%20%20%20%20%0A%20%20%20%20%20%20%20%20var%20popup_a41b8a2d554c4d62be63d2f212d772cc%20%3D%20L.popup%28%7B%22maxWidth%22%3A%20%22100%25%22%7D%29%3B%0A%0A%20%20%20%20%20%20%20%20%0A%20%20%20%20%20%20%20%20%20%20%20%20var%20html_69b977728e2a40d596103e58d73c6d90%20%3D%20%24%28%60%3Cdiv%20id%3D%22html_69b977728e2a40d596103e58d73c6d90%22%20style%3D%22width%3A%20100.0%25%3B%20height%3A%20100.0%25%3B%22%3EINESCAPABLE-QUOKKA%3C/div%3E%60%29%5B0%5D%3B%0A%20%20%20%20%20%20%20%20%20%20%20%20popup_a41b8a2d554c4d62be63d2f212d772cc.setContent%28html_69b977728e2a40d596103e58d73c6d90%29%3B%0A%20%20%20%20%20%20%20%20%0A%0A%20%20%20%20%20%20%20%20marker_f345a826b95741ba9d54f78c9928293c.bindPopup%28popup_a41b8a2d554c4d62be63d2f212d772cc%29%0A%20%20%20%20%20%20%20%20%3B%0A%0A%20%20%20%20%20%20%20%20%0A%20%20%20%20%0A%20%20%20%20%0A%20%20%20%20%20%20%20%20%20%20%20%20var%20marker_609900a7eb8741b5acacf5e8e0c0aeeb%20%3D%20L.marker%28%0A%20%20%20%20%20%20%20%20%20%20%20%20%20%20%20%20%5B47.88682243192673%2C%2092.72821955002844%5D%2C%0A%20%20%20%20%20%20%20%20%20%20%20%20%20%20%20%20%7B%7D%0A%20%20%20%20%20%20%20%20%20%20%20%20%29.addTo%28map_d2171a335bdb4e608155a8bc2fa76734%29%3B%0A%20%20%20%20%20%20%20%20%0A%20%20%20%20%0A%20%20%20%20%20%20%20%20var%20popup_8f786f38549f42409d3391f0f610d448%20%3D%20L.popup%28%7B%22maxWidth%22%3A%20%22100%25%22%7D%29%3B%0A%0A%20%20%20%20%20%20%20%20%0A%20%20%20%20%20%20%20%20%20%20%20%20var%20html_2ef56247f72b4afcadc346ffe1ad131b%20%3D%20%24%28%60%3Cdiv%20id%3D%22html_2ef56247f72b4afcadc346ffe1ad131b%22%20style%3D%22width%3A%20100.0%25%3B%20height%3A%20100.0%25%3B%22%3EDIDACTIC-HORNET%3C/div%3E%60%29%5B0%5D%3B%0A%20%20%20%20%20%20%20%20%20%20%20%20popup_8f786f38549f42409d3391f0f610d448.setContent%28html_2ef56247f72b4afcadc346ffe1ad131b%29%3B%0A%20%20%20%20%20%20%20%20%0A%0A%20%20%20%20%20%20%20%20marker_609900a7eb8741b5acacf5e8e0c0aeeb.bindPopup%28popup_8f786f38549f42409d3391f0f610d448%29%0A%20%20%20%20%20%20%20%20%3B%0A%0A%20%20%20%20%20%20%20%20%0A%20%20%20%20%0A%20%20%20%20%0A%20%20%20%20%20%20%20%20%20%20%20%20var%20marker_8e164f5441844a5f8a24da7ab14d38de%20%3D%20L.marker%28%0A%20%20%20%20%20%20%20%20%20%20%20%20%20%20%20%20%5B44.51034165958124%2C%2067.69215701925575%5D%2C%0A%20%20%20%20%20%20%20%20%20%20%20%20%20%20%20%20%7B%7D%0A%20%20%20%20%20%20%20%20%20%20%20%20%29.addTo%28map_d2171a335bdb4e608155a8bc2fa76734%29%3B%0A%20%20%20%20%20%20%20%20%0A%20%20%20%20%0A%20%20%20%20%20%20%20%20var%20popup_8b753bb8589f4205be1b8812ed9e0d7c%20%3D%20L.popup%28%7B%22maxWidth%22%3A%20%22100%25%22%7D%29%3B%0A%0A%20%20%20%20%20%20%20%20%0A%20%20%20%20%20%20%20%20%20%20%20%20var%20html_b76a7d25153d44368f0885238638a7cd%20%3D%20%24%28%60%3Cdiv%20id%3D%22html_b76a7d25153d44368f0885238638a7cd%22%20style%3D%22width%3A%20100.0%25%3B%20height%3A%20100.0%25%3B%22%3ESINGING-HONEYBEE%3C/div%3E%60%29%5B0%5D%3B%0A%20%20%20%20%20%20%20%20%20%20%20%20popup_8b753bb8589f4205be1b8812ed9e0d7c.setContent%28html_b76a7d25153d44368f0885238638a7cd%29%3B%0A%20%20%20%20%20%20%20%20%0A%0A%20%20%20%20%20%20%20%20marker_8e164f5441844a5f8a24da7ab14d38de.bindPopup%28popup_8b753bb8589f4205be1b8812ed9e0d7c%29%0A%20%20%20%20%20%20%20%20%3B%0A%0A%20%20%20%20%20%20%20%20%0A%20%20%20%20%0A%20%20%20%20%0A%20%20%20%20%20%20%20%20%20%20%20%20var%20marker_2547ef792719425b980314466b61dd2a%20%3D%20L.marker%28%0A%20%20%20%20%20%20%20%20%20%20%20%20%20%20%20%20%5B60.1146908897218%2C%20-124.25899698370448%5D%2C%0A%20%20%20%20%20%20%20%20%20%20%20%20%20%20%20%20%7B%7D%0A%20%20%20%20%20%20%20%20%20%20%20%20%29.addTo%28map_d2171a335bdb4e608155a8bc2fa76734%29%3B%0A%20%20%20%20%20%20%20%20%0A%20%20%20%20%0A%20%20%20%20%20%20%20%20var%20popup_57098c895b56486ba7010229b1f9987f%20%3D%20L.popup%28%7B%22maxWidth%22%3A%20%22100%25%22%7D%29%3B%0A%0A%20%20%20%20%20%20%20%20%0A%20%20%20%20%20%20%20%20%20%20%20%20var%20html_3960d0211dee4332b7a5478927a7929d%20%3D%20%24%28%60%3Cdiv%20id%3D%22html_3960d0211dee4332b7a5478927a7929d%22%20style%3D%22width%3A%20100.0%25%3B%20height%3A%20100.0%25%3B%22%3ELOUD-OCELOT%3C/div%3E%60%29%5B0%5D%3B%0A%20%20%20%20%20%20%20%20%20%20%20%20popup_57098c895b56486ba7010229b1f9987f.setContent%28html_3960d0211dee4332b7a5478927a7929d%29%3B%0A%20%20%20%20%20%20%20%20%0A%0A%20%20%20%20%20%20%20%20marker_2547ef792719425b980314466b61dd2a.bindPopup%28popup_57098c895b56486ba7010229b1f9987f%29%0A%20%20%20%20%20%20%20%20%3B%0A%0A%20%20%20%20%20%20%20%20%0A%20%20%20%20%0A%20%20%20%20%0A%20%20%20%20%20%20%20%20%20%20%20%20var%20marker_01b4c981668948c48af31f73c91de184%20%3D%20L.marker%28%0A%20%20%20%20%20%20%20%20%20%20%20%20%20%20%20%20%5B24.641432990648184%2C%2044.55161409811896%5D%2C%0A%20%20%20%20%20%20%20%20%20%20%20%20%20%20%20%20%7B%7D%0A%20%20%20%20%20%20%20%20%20%20%20%20%29.addTo%28map_d2171a335bdb4e608155a8bc2fa76734%29%3B%0A%20%20%20%20%20%20%20%20%0A%20%20%20%20%0A%20%20%20%20%20%20%20%20var%20popup_4126bb5e7e4644aeb155f973cb961823%20%3D%20L.popup%28%7B%22maxWidth%22%3A%20%22100%25%22%7D%29%3B%0A%0A%20%20%20%20%20%20%20%20%0A%20%20%20%20%20%20%20%20%20%20%20%20var%20html_0d4fb5e127884c6cbe945fb16d028327%20%3D%20%24%28%60%3Cdiv%20id%3D%22html_0d4fb5e127884c6cbe945fb16d028327%22%20style%3D%22width%3A%20100.0%25%3B%20height%3A%20100.0%25%3B%22%3ELOUTISH-PANDA%3C/div%3E%60%29%5B0%5D%3B%0A%20%20%20%20%20%20%20%20%20%20%20%20popup_4126bb5e7e4644aeb155f973cb961823.setContent%28html_0d4fb5e127884c6cbe945fb16d028327%29%3B%0A%20%20%20%20%20%20%20%20%0A%0A%20%20%20%20%20%20%20%20marker_01b4c981668948c48af31f73c91de184.bindPopup%28popup_4126bb5e7e4644aeb155f973cb961823%29%0A%20%20%20%20%20%20%20%20%3B%0A%0A%20%20%20%20%20%20%20%20%0A%20%20%20%20%0A%20%20%20%20%0A%20%20%20%20%20%20%20%20%20%20%20%20var%20marker_7e019c82e0a9413dbc8566dd2359fbc8%20%3D%20L.marker%28%0A%20%20%20%20%20%20%20%20%20%20%20%20%20%20%20%20%5B-19.98746053177358%2C%20-66.458677896226%5D%2C%0A%20%20%20%20%20%20%20%20%20%20%20%20%20%20%20%20%7B%7D%0A%20%20%20%20%20%20%20%20%20%20%20%20%29.addTo%28map_d2171a335bdb4e608155a8bc2fa76734%29%3B%0A%20%20%20%20%20%20%20%20%0A%20%20%20%20%0A%20%20%20%20%20%20%20%20var%20popup_f6dd38684c42460ebd80049499b69b3a%20%3D%20L.popup%28%7B%22maxWidth%22%3A%20%22100%25%22%7D%29%3B%0A%0A%20%20%20%20%20%20%20%20%0A%20%20%20%20%20%20%20%20%20%20%20%20var%20html_6fb6bc4b97cf4c58915b7d2932a75b49%20%3D%20%24%28%60%3Cdiv%20id%3D%22html_6fb6bc4b97cf4c58915b7d2932a75b49%22%20style%3D%22width%3A%20100.0%25%3B%20height%3A%20100.0%25%3B%22%3EZIRCON-CAMEL%3C/div%3E%60%29%5B0%5D%3B%0A%20%20%20%20%20%20%20%20%20%20%20%20popup_f6dd38684c42460ebd80049499b69b3a.setContent%28html_6fb6bc4b97cf4c58915b7d2932a75b49%29%3B%0A%20%20%20%20%20%20%20%20%0A%0A%20%20%20%20%20%20%20%20marker_7e019c82e0a9413dbc8566dd2359fbc8.bindPopup%28popup_f6dd38684c42460ebd80049499b69b3a%29%0A%20%20%20%20%20%20%20%20%3B%0A%0A%20%20%20%20%20%20%20%20%0A%20%20%20%20%0A%20%20%20%20%0A%20%20%20%20%20%20%20%20%20%20%20%20var%20marker_9e397e38e91943359cc680fa10c6171c%20%3D%20L.marker%28%0A%20%20%20%20%20%20%20%20%20%20%20%20%20%20%20%20%5B41.63113854444558%2C%2055.98142619557191%5D%2C%0A%20%20%20%20%20%20%20%20%20%20%20%20%20%20%20%20%7B%7D%0A%20%20%20%20%20%20%20%20%20%20%20%20%29.addTo%28map_d2171a335bdb4e608155a8bc2fa76734%29%3B%0A%20%20%20%20%20%20%20%20%0A%20%20%20%20%0A%20%20%20%20%20%20%20%20var%20popup_37de826090ce42a88f6c98ab723e5f91%20%3D%20L.popup%28%7B%22maxWidth%22%3A%20%22100%25%22%7D%29%3B%0A%0A%20%20%20%20%20%20%20%20%0A%20%20%20%20%20%20%20%20%20%20%20%20var%20html_da25b192e2924d00b1dacb65d6075343%20%3D%20%24%28%60%3Cdiv%20id%3D%22html_da25b192e2924d00b1dacb65d6075343%22%20style%3D%22width%3A%20100.0%25%3B%20height%3A%20100.0%25%3B%22%3EGIGANTIC-EARWIG%3C/div%3E%60%29%5B0%5D%3B%0A%20%20%20%20%20%20%20%20%20%20%20%20popup_37de826090ce42a88f6c98ab723e5f91.setContent%28html_da25b192e2924d00b1dacb65d6075343%29%3B%0A%20%20%20%20%20%20%20%20%0A%0A%20%20%20%20%20%20%20%20marker_9e397e38e91943359cc680fa10c6171c.bindPopup%28popup_37de826090ce42a88f6c98ab723e5f91%29%0A%20%20%20%20%20%20%20%20%3B%0A%0A%20%20%20%20%20%20%20%20%0A%20%20%20%20%0A%20%20%20%20%0A%20%20%20%20%20%20%20%20%20%20%20%20var%20marker_11d0bb7bc2d74a5994df9885744c9894%20%3D%20L.marker%28%0A%20%20%20%20%20%20%20%20%20%20%20%20%20%20%20%20%5B-26.17558122248137%2C%2016.115096309919323%5D%2C%0A%20%20%20%20%20%20%20%20%20%20%20%20%20%20%20%20%7B%7D%0A%20%20%20%20%20%20%20%20%20%20%20%20%29.addTo%28map_d2171a335bdb4e608155a8bc2fa76734%29%3B%0A%20%20%20%20%20%20%20%20%0A%20%20%20%20%0A%20%20%20%20%20%20%20%20var%20popup_a3ca0722752c41e5bd385e9e8303f2c5%20%3D%20L.popup%28%7B%22maxWidth%22%3A%20%22100%25%22%7D%29%3B%0A%0A%20%20%20%20%20%20%20%20%0A%20%20%20%20%20%20%20%20%20%20%20%20var%20html_dd0142610a4b475b9d3bd06e7fdf6e67%20%3D%20%24%28%60%3Cdiv%20id%3D%22html_dd0142610a4b475b9d3bd06e7fdf6e67%22%20style%3D%22width%3A%20100.0%25%3B%20height%3A%20100.0%25%3B%22%3EPREMIUM-MOTH%3C/div%3E%60%29%5B0%5D%3B%0A%20%20%20%20%20%20%20%20%20%20%20%20popup_a3ca0722752c41e5bd385e9e8303f2c5.setContent%28html_dd0142610a4b475b9d3bd06e7fdf6e67%29%3B%0A%20%20%20%20%20%20%20%20%0A%0A%20%20%20%20%20%20%20%20marker_11d0bb7bc2d74a5994df9885744c9894.bindPopup%28popup_a3ca0722752c41e5bd385e9e8303f2c5%29%0A%20%20%20%20%20%20%20%20%3B%0A%0A%20%20%20%20%20%20%20%20%0A%20%20%20%20%0A%3C/script%3E onload=\"this.contentDocument.open();this.contentDocument.write(    decodeURIComponent(this.getAttribute('data-html')));this.contentDocument.close();\" allowfullscreen webkitallowfullscreen mozallowfullscreen></iframe></div></div>"
      ],
      "text/plain": [
       "<folium.folium.Map at 0x1325ef2ee90>"
      ]
     },
     "execution_count": 43,
     "metadata": {},
     "output_type": "execute_result"
    }
   ],
   "source": [
    "map"
   ]
  },
  {
   "cell_type": "code",
   "execution_count": null,
   "metadata": {},
   "outputs": [],
   "source": []
  }
 ],
 "metadata": {
  "kernelspec": {
   "display_name": "Python 3.10.3 64-bit",
   "language": "python",
   "name": "python3"
  },
  "language_info": {
   "codemirror_mode": {
    "name": "ipython",
    "version": 3
   },
   "file_extension": ".py",
   "mimetype": "text/x-python",
   "name": "python",
   "nbconvert_exporter": "python",
   "pygments_lexer": "ipython3",
   "version": "3.10.3"
  },
  "orig_nbformat": 4,
  "vscode": {
   "interpreter": {
    "hash": "f2ccb58c476f33ba3e3aee7ac07234ef6b8217ef24ad64d2a7d4fed1a57c1cd2"
   }
  }
 },
 "nbformat": 4,
 "nbformat_minor": 2
}
